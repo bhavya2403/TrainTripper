{
 "cells": [
  {
   "cell_type": "code",
   "execution_count": 1,
   "metadata": {
    "collapsed": true,
    "pycharm": {
     "name": "#%%\n"
    },
    "ExecuteTime": {
     "end_time": "2023-11-06T13:13:31.336323Z",
     "start_time": "2023-11-06T13:13:30.368021200Z"
    }
   },
   "outputs": [],
   "source": [
    "import json\n",
    "import pandas as pd\n",
    "import matplotlib.pyplot as plt"
   ]
  },
  {
   "cell_type": "code",
   "execution_count": 2,
   "outputs": [],
   "source": [
    "df = pd.concat([pd.read_csv('../Data/irctc/static_coverage.csv'), pd.read_csv('../Data/irctc/dynamic_coverage.csv')])"
   ],
   "metadata": {
    "collapsed": false,
    "pycharm": {
     "name": "#%%\n"
    }
   }
  },
  {
   "cell_type": "code",
   "execution_count": 3,
   "outputs": [
    {
     "name": "stdout",
     "output_type": "stream",
     "text": [
      "Index(['baseFare', 'reservationCharge', 'superfastCharge', 'fuelAmount',\n",
      "       'totalConcession', 'tatkalFare', 'serviceTax', 'otherCharge',\n",
      "       'cateringCharge', 'dynamicFare', 'totalFare', 'availability',\n",
      "       'trainNumber', 'timeStamp', 'fromStnCode', 'toStnCode', 'classCode'],\n",
      "      dtype='object')\n"
     ]
    }
   ],
   "source": [
    "print(df.columns)"
   ],
   "metadata": {
    "collapsed": false,
    "pycharm": {
     "name": "#%%\n"
    },
    "ExecuteTime": {
     "end_time": "2023-11-06T13:13:31.870204200Z",
     "start_time": "2023-11-06T13:13:31.854923200Z"
    }
   }
  },
  {
   "cell_type": "code",
   "execution_count": 57,
   "outputs": [
    {
     "data": {
      "text/plain": "count    296055.000000\nmean          0.005296\nstd           0.123749\nmin           0.000000\n25%           0.000000\n50%           0.000000\n75%           0.000000\nmax           4.000000\ndtype: float64"
     },
     "execution_count": 57,
     "metadata": {},
     "output_type": "execute_result"
    }
   ],
   "source": [
    "# is total fare a total of all the different fares? Almost yes with a difference of max 4 rupees\n",
    "sum_series = df[['baseFare', 'reservationCharge', 'superfastCharge', 'fuelAmount', 'totalConcession', 'tatkalFare', 'serviceTax', 'otherCharge', 'cateringCharge', 'dynamicFare']].sum(axis=1)\n",
    "diff_series = df.totalFare-sum_series\n",
    "diff_series.describe()"
   ],
   "metadata": {
    "collapsed": false,
    "pycharm": {
     "name": "#%%\n"
    },
    "ExecuteTime": {
     "end_time": "2023-11-06T13:13:33.173568200Z",
     "start_time": "2023-11-06T13:13:33.091302600Z"
    }
   }
  },
  {
   "cell_type": "markdown",
   "source": [
    "## FuelAmount, totalConcession, tatkalFare"
   ],
   "metadata": {
    "collapsed": false,
    "pycharm": {
     "name": "#%% md\n"
    }
   }
  },
  {
   "cell_type": "code",
   "execution_count": 58,
   "outputs": [
    {
     "data": {
      "text/plain": "fuelAmount  totalConcession  tatkalFare\n0.0         0                0             296055\nName: count, dtype: int64"
     },
     "execution_count": 58,
     "metadata": {},
     "output_type": "execute_result"
    }
   ],
   "source": [
    "df[['fuelAmount', 'totalConcession', 'tatkalFare']].value_counts()"
   ],
   "metadata": {
    "collapsed": false,
    "pycharm": {
     "name": "#%%\n"
    },
    "ExecuteTime": {
     "end_time": "2023-11-06T13:13:34.920240200Z",
     "start_time": "2023-11-06T13:13:34.861232300Z"
    }
   }
  },
  {
   "cell_type": "code",
   "execution_count": 59,
   "outputs": [],
   "source": [
    "df.drop(['fuelAmount', 'totalConcession', 'tatkalFare'], axis=1, inplace=True)"
   ],
   "metadata": {
    "collapsed": false,
    "pycharm": {
     "name": "#%%\n"
    },
    "ExecuteTime": {
     "end_time": "2023-11-06T13:13:36.410750900Z",
     "start_time": "2023-11-06T13:13:36.375164200Z"
    }
   }
  },
  {
   "cell_type": "markdown",
   "source": [
    "## Other Charge"
   ],
   "metadata": {
    "collapsed": false,
    "pycharm": {
     "name": "#%% md\n"
    }
   }
  },
  {
   "cell_type": "code",
   "execution_count": 60,
   "outputs": [
    {
     "data": {
      "text/plain": "otherCharge\n0              295110\n15                630\n25                315\nName: count, dtype: int64"
     },
     "execution_count": 60,
     "metadata": {},
     "output_type": "execute_result"
    }
   ],
   "source": [
    "df[['otherCharge']].value_counts()"
   ],
   "metadata": {
    "collapsed": false,
    "pycharm": {
     "name": "#%%\n"
    },
    "ExecuteTime": {
     "end_time": "2023-11-06T13:13:37.771819100Z",
     "start_time": "2023-11-06T13:13:37.742874700Z"
    }
   }
  },
  {
   "cell_type": "code",
   "execution_count": 61,
   "outputs": [
    {
     "data": {
      "text/plain": "                         totalFare\notherCharge trainNumber           \n15          1665               378\n            1666               252\n25          1665               189\n            1666               126",
      "text/html": "<div>\n<style scoped>\n    .dataframe tbody tr th:only-of-type {\n        vertical-align: middle;\n    }\n\n    .dataframe tbody tr th {\n        vertical-align: top;\n    }\n\n    .dataframe thead th {\n        text-align: right;\n    }\n</style>\n<table border=\"1\" class=\"dataframe\">\n  <thead>\n    <tr style=\"text-align: right;\">\n      <th></th>\n      <th></th>\n      <th>totalFare</th>\n    </tr>\n    <tr>\n      <th>otherCharge</th>\n      <th>trainNumber</th>\n      <th></th>\n    </tr>\n  </thead>\n  <tbody>\n    <tr>\n      <th rowspan=\"2\" valign=\"top\">15</th>\n      <th>1665</th>\n      <td>378</td>\n    </tr>\n    <tr>\n      <th>1666</th>\n      <td>252</td>\n    </tr>\n    <tr>\n      <th rowspan=\"2\" valign=\"top\">25</th>\n      <th>1665</th>\n      <td>189</td>\n    </tr>\n    <tr>\n      <th>1666</th>\n      <td>126</td>\n    </tr>\n  </tbody>\n</table>\n</div>"
     },
     "execution_count": 61,
     "metadata": {},
     "output_type": "execute_result"
    }
   ],
   "source": [
    "# 01665 - AGTL FESTIVL SPL\n",
    "# Only festival special trains have other charge which are minimal and irrelevant for our case as not much data for\n",
    "# prediction\n",
    "df[df.otherCharge>0][['otherCharge', 'trainNumber', 'totalFare']].groupby(['otherCharge', 'trainNumber']).count()"
   ],
   "metadata": {
    "collapsed": false,
    "pycharm": {
     "name": "#%%\n"
    },
    "ExecuteTime": {
     "end_time": "2023-11-06T13:13:43.514179400Z",
     "start_time": "2023-11-06T13:13:43.478278100Z"
    }
   }
  },
  {
   "cell_type": "code",
   "execution_count": 62,
   "outputs": [],
   "source": [
    "df.drop(['otherCharge'], axis=1, inplace=True)"
   ],
   "metadata": {
    "collapsed": false,
    "pycharm": {
     "name": "#%%\n"
    },
    "ExecuteTime": {
     "end_time": "2023-11-06T13:13:46.815782900Z",
     "start_time": "2023-11-06T13:13:46.778693400Z"
    }
   }
  },
  {
   "cell_type": "code",
   "execution_count": 63,
   "outputs": [
    {
     "name": "stdout",
     "output_type": "stream",
     "text": [
      "Index(['baseFare', 'reservationCharge', 'superfastCharge', 'serviceTax',\n",
      "       'cateringCharge', 'dynamicFare', 'totalFare', 'availability',\n",
      "       'trainNumber', 'timeStamp', 'fromStnCode', 'toStnCode', 'classCode'],\n",
      "      dtype='object')\n"
     ]
    }
   ],
   "source": [
    "print(df.columns)"
   ],
   "metadata": {
    "collapsed": false,
    "pycharm": {
     "name": "#%%\n"
    },
    "ExecuteTime": {
     "end_time": "2023-11-06T13:13:48.355884800Z",
     "start_time": "2023-11-06T13:13:48.339767Z"
    }
   }
  },
  {
   "cell_type": "markdown",
   "source": [
    "## Reservation Charge"
   ],
   "metadata": {
    "collapsed": false,
    "pycharm": {
     "name": "#%% md\n"
    }
   }
  },
  {
   "cell_type": "code",
   "execution_count": 64,
   "outputs": [
    {
     "data": {
      "text/plain": "classCode  reservationCharge\n1A         20                     388\n           60                   31831\n2A         50                   77515\n           60                     389\n2S         15                    6217\n3A         40                   81393\n           50                     389\nCC         40                    6652\nSL         20                   90893\n           40                     388\nName: totalFare, dtype: int64"
     },
     "execution_count": 64,
     "metadata": {},
     "output_type": "execute_result"
    }
   ],
   "source": [
    "# reservation charge seem to directly depend on class code and very few values (exactly 388 or 389) are different.\n",
    "# assuming they are for same train\n",
    "df.groupby(['classCode', 'reservationCharge'])['totalFare'].count()"
   ],
   "metadata": {
    "collapsed": false,
    "pycharm": {
     "name": "#%%\n"
    },
    "ExecuteTime": {
     "end_time": "2023-11-06T13:13:49.986553600Z",
     "start_time": "2023-11-06T13:13:49.947032Z"
    }
   }
  },
  {
   "cell_type": "code",
   "execution_count": 65,
   "outputs": [
    {
     "data": {
      "text/plain": "array([11464], dtype=int64)"
     },
     "execution_count": 65,
     "metadata": {},
     "output_type": "execute_result"
    }
   ],
   "source": [
    "# 11464 - JBP SOMNATH EXP\n",
    "# don't know why but only 1 train is overpriced. just drop it. Not good for data\n",
    "df[(df.classCode=='1A') & (df.reservationCharge==20)].trainNumber.unique()"
   ],
   "metadata": {
    "collapsed": false,
    "pycharm": {
     "name": "#%%\n"
    },
    "ExecuteTime": {
     "end_time": "2023-11-06T13:13:51.522853Z",
     "start_time": "2023-11-06T13:13:51.508864900Z"
    }
   }
  },
  {
   "cell_type": "code",
   "execution_count": 66,
   "outputs": [
    {
     "name": "stdout",
     "output_type": "stream",
     "text": [
      "296055\n",
      "293744\n"
     ]
    }
   ],
   "source": [
    "print(len(df))\n",
    "df = df[df.trainNumber!=11464]\n",
    "print(len(df))"
   ],
   "metadata": {
    "collapsed": false,
    "pycharm": {
     "name": "#%%\n"
    },
    "ExecuteTime": {
     "end_time": "2023-11-06T13:13:55.729296600Z",
     "start_time": "2023-11-06T13:13:55.657832800Z"
    }
   }
  },
  {
   "cell_type": "code",
   "execution_count": 67,
   "outputs": [
    {
     "data": {
      "text/plain": "classCode  reservationCharge\n1A         60                   31641\n2A         50                   77326\n2S         15                    6217\n3A         40                   81204\nCC         40                    6652\nSL         20                   90704\nName: totalFare, dtype: int64"
     },
     "execution_count": 67,
     "metadata": {},
     "output_type": "execute_result"
    }
   ],
   "source": [
    "# Reservation charge can be precomputed as only depending on class codes.\n",
    "df.groupby(['classCode', 'reservationCharge'])['totalFare'].count()"
   ],
   "metadata": {
    "collapsed": false,
    "pycharm": {
     "name": "#%%\n"
    },
    "ExecuteTime": {
     "end_time": "2023-11-06T13:13:57.562905300Z",
     "start_time": "2023-11-06T13:13:57.518249200Z"
    }
   }
  },
  {
   "cell_type": "code",
   "execution_count": 68,
   "outputs": [],
   "source": [
    "df1 = df.groupby(['classCode', 'reservationCharge'])['totalFare'].count()\n",
    "lst = df1.index.to_list()\n",
    "json.dump(lst, open(\"../Data/precomputes/reservation_charge.json\", 'w'))"
   ],
   "metadata": {
    "collapsed": false,
    "pycharm": {
     "name": "#%%\n"
    },
    "ExecuteTime": {
     "end_time": "2023-11-06T13:13:59.060603900Z",
     "start_time": "2023-11-06T13:13:59.012571600Z"
    }
   }
  },
  {
   "cell_type": "code",
   "execution_count": 69,
   "outputs": [],
   "source": [
    "df['total_sub_res'] = df.totalFare-df.reservationCharge"
   ],
   "metadata": {
    "collapsed": false,
    "pycharm": {
     "name": "#%%\n"
    },
    "ExecuteTime": {
     "end_time": "2023-11-06T13:14:00.802971600Z",
     "start_time": "2023-11-06T13:14:00.787038300Z"
    }
   }
  },
  {
   "cell_type": "markdown",
   "source": [
    "## BaseFare"
   ],
   "metadata": {
    "collapsed": false,
    "pycharm": {
     "name": "#%% md\n"
    }
   }
  },
  {
   "cell_type": "code",
   "execution_count": 70,
   "outputs": [
    {
     "data": {
      "text/plain": "count    293744.000000\nmean        898.772489\nstd         794.197728\nmin          30.000000\n25%         375.000000\n50%         626.000000\n75%        1238.000000\nmax        6541.000000\nName: baseFare, dtype: float64"
     },
     "execution_count": 70,
     "metadata": {},
     "output_type": "execute_result"
    }
   ],
   "source": [
    "# how can there be 6541 INR base fare\n",
    "df.baseFare.describe()"
   ],
   "metadata": {
    "collapsed": false,
    "pycharm": {
     "name": "#%%\n"
    },
    "ExecuteTime": {
     "end_time": "2023-11-06T13:14:02.154856100Z",
     "start_time": "2023-11-06T13:14:02.133629700Z"
    }
   }
  },
  {
   "cell_type": "code",
   "execution_count": 71,
   "outputs": [
    {
     "data": {
      "text/plain": "Text(0.5, 1.0, 'Histogram for base fare')"
     },
     "execution_count": 71,
     "metadata": {},
     "output_type": "execute_result"
    },
    {
     "data": {
      "text/plain": "<Figure size 640x480 with 1 Axes>",
      "image/png": "[encoded data removed]"
     },
     "metadata": {},
     "output_type": "display_data"
    }
   ],
   "source": [
    "# seems like there are a lot of values and column is independent of class. complex feature\n",
    "plt.hist(df.baseFare, bins=100)\n",
    "plt.title(\"Histogram for base fare\")"
   ],
   "metadata": {
    "collapsed": false,
    "pycharm": {
     "name": "#%%\n"
    },
    "ExecuteTime": {
     "end_time": "2023-11-06T13:14:03.835808600Z",
     "start_time": "2023-11-06T13:14:03.530360800Z"
    }
   }
  },
  {
   "cell_type": "code",
   "execution_count": 72,
   "outputs": [
    {
     "data": {
      "text/plain": "       baseFare  reservationCharge  superfastCharge  serviceTax  \\\n56156      6541                 60               75       334.0   \n\n       cateringCharge  dynamicFare  totalFare  \\\n56156            1365            0       8375   \n\n                                            availability  trainNumber  \\\n56156  [{'date': '7-11-2023', 'status': 'GNWL6/WL1'},...        12283   \n\n                        timeStamp fromStnCode toStnCode classCode  \\\n56156  2023-10-30 01:15:53.104962         ERS       NZM        1A   \n\n       total_sub_res  \n56156           8315  ",
      "text/html": "<div>\n<style scoped>\n    .dataframe tbody tr th:only-of-type {\n        vertical-align: middle;\n    }\n\n    .dataframe tbody tr th {\n        vertical-align: top;\n    }\n\n    .dataframe thead th {\n        text-align: right;\n    }\n</style>\n<table border=\"1\" class=\"dataframe\">\n  <thead>\n    <tr style=\"text-align: right;\">\n      <th></th>\n      <th>baseFare</th>\n      <th>reservationCharge</th>\n      <th>superfastCharge</th>\n      <th>serviceTax</th>\n      <th>cateringCharge</th>\n      <th>dynamicFare</th>\n      <th>totalFare</th>\n      <th>availability</th>\n      <th>trainNumber</th>\n      <th>timeStamp</th>\n      <th>fromStnCode</th>\n      <th>toStnCode</th>\n      <th>classCode</th>\n      <th>total_sub_res</th>\n    </tr>\n  </thead>\n  <tbody>\n    <tr>\n      <th>56156</th>\n      <td>6541</td>\n      <td>60</td>\n      <td>75</td>\n      <td>334.0</td>\n      <td>1365</td>\n      <td>0</td>\n      <td>8375</td>\n      <td>[{'date': '7-11-2023', 'status': 'GNWL6/WL1'},...</td>\n      <td>12283</td>\n      <td>2023-10-30 01:15:53.104962</td>\n      <td>ERS</td>\n      <td>NZM</td>\n      <td>1A</td>\n      <td>8315</td>\n    </tr>\n  </tbody>\n</table>\n</div>"
     },
     "execution_count": 72,
     "metadata": {},
     "output_type": "execute_result"
    }
   ],
   "source": [
    "# ERS NZM DURONTO (12283)\n",
    "# this train really charges 8375 for Ernakulam to nizam first AC.\n",
    "df.iloc[[df.baseFare.argmax()]]"
   ],
   "metadata": {
    "collapsed": false,
    "pycharm": {
     "name": "#%%\n"
    },
    "ExecuteTime": {
     "end_time": "2023-11-06T13:14:06.463254200Z",
     "start_time": "2023-11-06T13:14:06.443624Z"
    }
   }
  },
  {
   "cell_type": "code",
   "execution_count": 73,
   "outputs": [
    {
     "data": {
      "text/plain": "trainNumber  classCode  baseFare\n1027         2A         1321         9\n                        1478         1\n                        1516         1\n                        1588         1\n                        1626         1\n                                    ..\n22645        SL         815         11\n                        825          7\n                        835          7\n                        845          2\n                        855          2\nName: totalFare, Length: 61104, dtype: int64"
     },
     "execution_count": 73,
     "metadata": {},
     "output_type": "execute_result"
    }
   ],
   "source": [
    "# This also proves that base fare is quite independent of class code and complex. might depend on distance\n",
    "df.groupby(['trainNumber', 'classCode', 'baseFare'])['totalFare'].count()"
   ],
   "metadata": {
    "collapsed": false,
    "pycharm": {
     "name": "#%%\n"
    },
    "ExecuteTime": {
     "end_time": "2023-11-06T13:14:08.025796500Z",
     "start_time": "2023-11-06T13:14:07.954576100Z"
    }
   }
  },
  {
   "cell_type": "markdown",
   "source": [
    "## Superfast Charge"
   ],
   "metadata": {
    "collapsed": false,
    "pycharm": {
     "name": "#%% md\n"
    }
   }
  },
  {
   "cell_type": "code",
   "execution_count": 74,
   "outputs": [
    {
     "data": {
      "text/plain": "trainNumber  classCode  superfastCharge\n1027         2A         0                   81\n             3A         0                   81\n             SL         0                   81\n1065         2S         0                   75\n             CC         0                   75\n                                          ... \n22644        3A         45                 455\n             SL         30                 455\n22645        2A         45                 272\n             3A         45                 272\n             SL         30                 272\nName: totalFare, Length: 1383, dtype: int64"
     },
     "execution_count": 74,
     "metadata": {},
     "output_type": "execute_result"
    }
   ],
   "source": [
    "# for train number 2101, three different class code have different super-fast charges. class code not only determines\n",
    "# base fare but the superfast charge as well.\n",
    "df.groupby(['trainNumber','classCode', 'superfastCharge'])['totalFare'].count()"
   ],
   "metadata": {
    "collapsed": false,
    "pycharm": {
     "name": "#%%\n"
    },
    "ExecuteTime": {
     "end_time": "2023-11-06T13:14:10.366128900Z",
     "start_time": "2023-11-06T13:14:10.296428600Z"
    }
   }
  },
  {
   "cell_type": "code",
   "execution_count": 75,
   "outputs": [
    {
     "data": {
      "text/plain": "trainNumber  superfastCharge  classCode  fromStnCode\n2101         15               2S         DR             5\n                                         IGP            4\n                                         KYN            5\n                                         LS             1\n                                         NK             3\n                                         NR             2\n                                         TNA            5\n             30               SL         DR             5\n                                         IGP            4\n                                         KYN            5\n                                         LS             1\n                                         NK             3\n                                         NR             2\n                                         TNA            5\n             45               CC         DR             5\n                                         IGP            4\n                                         KYN            5\n                                         LS             1\n                                         NK             3\n                                         NR             2\n                                         TNA            5\nName: totalFare, dtype: int64"
     },
     "execution_count": 75,
     "metadata": {},
     "output_type": "execute_result"
    }
   ],
   "source": [
    "# superfast charge only determined by train number and class code and independent of train travel distance. So can\n",
    "# easily be precomputed\n",
    "df[df.trainNumber==2101].groupby(['trainNumber', 'superfastCharge', 'classCode', 'fromStnCode'])['totalFare'].count()"
   ],
   "metadata": {
    "collapsed": false,
    "pycharm": {
     "name": "#%%\n"
    },
    "ExecuteTime": {
     "end_time": "2023-11-06T13:14:13.125758700Z",
     "start_time": "2023-11-06T13:14:13.108414800Z"
    }
   }
  },
  {
   "cell_type": "code",
   "execution_count": 76,
   "outputs": [],
   "source": [
    "df1 = df[df.superfastCharge>0].groupby(['trainNumber','classCode', 'superfastCharge'])['totalFare'].count()\n",
    "lst = df1.index.to_list()\n",
    "json.dump(lst, open(\"../Data/precomputes/superfast_charge.json\", 'w'))"
   ],
   "metadata": {
    "collapsed": false,
    "pycharm": {
     "name": "#%%\n"
    },
    "ExecuteTime": {
     "end_time": "2023-11-06T13:14:15.097510500Z",
     "start_time": "2023-11-06T13:14:15.038167500Z"
    }
   }
  },
  {
   "cell_type": "code",
   "execution_count": 77,
   "outputs": [],
   "source": [
    "df['total_sub_res_sub_sup'] = df.total_sub_res - df.superfastCharge"
   ],
   "metadata": {
    "collapsed": false,
    "pycharm": {
     "name": "#%%\n"
    },
    "ExecuteTime": {
     "end_time": "2023-11-06T13:14:16.817542800Z",
     "start_time": "2023-11-06T13:14:16.800200300Z"
    }
   }
  },
  {
   "cell_type": "markdown",
   "source": [
    "## Catering Charge"
   ],
   "metadata": {
    "collapsed": false,
    "pycharm": {
     "name": "#%% md\n"
    }
   }
  },
  {
   "cell_type": "code",
   "execution_count": 78,
   "outputs": [
    {
     "data": {
      "text/plain": "trainNumber  cateringCharge  classCode\n12269        65              SL           1\n             105             2A           1\n                             3A           1\n             120             SL           5\n             135             SL           2\n                                         ..\n20912        308             CC           6\n22549        35              CC           1\n             142             CC           5\n22550        242             CC           3\n             257             CC           3\nName: totalFare, Length: 450, dtype: int64"
     },
     "execution_count": 78,
     "metadata": {},
     "output_type": "execute_result"
    }
   ],
   "source": [
    "# definitely depends on train arrival and departure as they give food on fixed time periods like lunch, dinner, ...\n",
    "df[df.cateringCharge>0].groupby(['trainNumber', 'cateringCharge', 'classCode'])['totalFare'].count()"
   ],
   "metadata": {
    "collapsed": false,
    "pycharm": {
     "name": "#%%\n"
    },
    "ExecuteTime": {
     "end_time": "2023-11-06T13:14:22.281615500Z",
     "start_time": "2023-11-06T13:14:22.262329500Z"
    }
   }
  },
  {
   "cell_type": "code",
   "execution_count": 79,
   "outputs": [
    {
     "data": {
      "text/plain": "array([12269, 12270, 12274, 12278, 12281, 12282, 12283, 12284, 12285,\n       12286, 12293, 12294, 12301, 12302, 12305, 12306, 12309, 12310,\n       12313, 12314, 20834, 20835, 20836, 20839, 20840, 20897, 20898,\n       20901, 20902, 20911, 20912, 22549, 22550], dtype=int64)"
     },
     "execution_count": 79,
     "metadata": {},
     "output_type": "execute_result"
    }
   ],
   "source": [
    "# Only 33 trains offer catering. One column can be added if the train offers catering or not\n",
    "df[df.cateringCharge>0].trainNumber.unique()"
   ],
   "metadata": {
    "collapsed": false,
    "pycharm": {
     "name": "#%%\n"
    },
    "ExecuteTime": {
     "end_time": "2023-11-06T13:14:25.056195300Z",
     "start_time": "2023-11-06T13:14:25.030911700Z"
    }
   }
  },
  {
   "cell_type": "code",
   "execution_count": 80,
   "outputs": [],
   "source": [
    "lst = df[df.cateringCharge>0].trainNumber.unique().tolist()\n",
    "json.dump(lst, open(\"../Data/precomputes/catering_trains.json\", 'w'))"
   ],
   "metadata": {
    "collapsed": false,
    "pycharm": {
     "name": "#%%\n"
    },
    "ExecuteTime": {
     "end_time": "2023-11-06T13:14:27.340216700Z",
     "start_time": "2023-11-06T13:14:27.325566500Z"
    }
   }
  },
  {
   "cell_type": "code",
   "execution_count": 81,
   "outputs": [],
   "source": [
    "df['if_offering_catering'] = df.cateringCharge>0"
   ],
   "metadata": {
    "collapsed": false,
    "pycharm": {
     "name": "#%%\n"
    },
    "ExecuteTime": {
     "end_time": "2023-11-06T13:14:27.999974100Z",
     "start_time": "2023-11-06T13:14:27.982519200Z"
    }
   }
  },
  {
   "cell_type": "markdown",
   "source": [
    "## Dynamic fare"
   ],
   "metadata": {
    "collapsed": false,
    "pycharm": {
     "name": "#%% md\n"
    }
   }
  },
  {
   "cell_type": "code",
   "execution_count": 82,
   "outputs": [
    {
     "data": {
      "text/plain": "array([12269, 12270, 12274, 12278, 12281, 12282, 12283, 12284, 12285,\n       12286, 12289, 12290, 12293, 12294, 12297, 12298, 12301, 12302,\n       12305, 12306, 12309, 12310, 12313, 12314, 20839, 20840],\n      dtype=int64)"
     },
     "execution_count": 82,
     "metadata": {},
     "output_type": "execute_result"
    }
   ],
   "source": [
    "# as the name says. depends on date for very few trains\n",
    "# only 26 train offers\n",
    "df[df.dynamicFare>0].trainNumber.unique()"
   ],
   "metadata": {
    "collapsed": false,
    "pycharm": {
     "name": "#%%\n"
    },
    "ExecuteTime": {
     "end_time": "2023-11-06T13:14:29.728876200Z",
     "start_time": "2023-11-06T13:14:29.714271600Z"
    }
   }
  },
  {
   "cell_type": "code",
   "execution_count": 83,
   "outputs": [],
   "source": [
    "lst = df[df.dynamicFare>0].trainNumber.unique().tolist()\n",
    "json.dump(lst, open(\"../Data/precomputes/dynamicfare_trains.json\", 'w'))"
   ],
   "metadata": {
    "collapsed": false,
    "pycharm": {
     "name": "#%%\n"
    },
    "ExecuteTime": {
     "end_time": "2023-11-06T13:14:31.687975300Z",
     "start_time": "2023-11-06T13:14:31.671719700Z"
    }
   }
  },
  {
   "cell_type": "code",
   "execution_count": 84,
   "outputs": [],
   "source": [
    "df['if_dynamic_fare'] = df.dynamicFare>0"
   ],
   "metadata": {
    "collapsed": false,
    "pycharm": {
     "name": "#%%\n"
    },
    "ExecuteTime": {
     "end_time": "2023-11-06T13:14:32.522115Z",
     "start_time": "2023-11-06T13:14:32.505475600Z"
    }
   }
  },
  {
   "cell_type": "markdown",
   "source": [
    "## Preparing data for further analysis"
   ],
   "metadata": {
    "collapsed": false,
    "pycharm": {
     "name": "#%% md\n"
    }
   }
  },
  {
   "cell_type": "code",
   "execution_count": 85,
   "outputs": [
    {
     "data": {
      "text/plain": "      baseFare  reservationCharge  superfastCharge  serviceTax  \\\n2311      1321                 50                0        69.0   \n2312       960                 40                0        50.0   \n2313       365                 20                0         0.0   \n2314      1321                 50                0        69.0   \n2315       960                 40                0        50.0   \n\n      cateringCharge  dynamicFare  totalFare  \\\n2311               0            0       1440   \n2312               0            0       1050   \n2313               0            0        385   \n2314               0            0       1440   \n2315               0            0       1050   \n\n                                           availability  trainNumber  \\\n2311  [{'date': '4-11-2023', 'status': 'NOT AVAILABL...         1027   \n2312  [{'date': '4-11-2023', 'status': 'NOT AVAILABL...         1027   \n2313  [{'date': '4-11-2023', 'status': 'NOT AVAILABL...         1027   \n2314  [{'date': '4-11-2023', 'status': 'PQWL16/WL11'...         1027   \n2315  [{'date': '4-11-2023', 'status': 'PQWL28/WL17'...         1027   \n\n                       timeStamp fromStnCode toStnCode classCode  \\\n2311  2023-10-30 00:50:10.756176          DR        NK        2A   \n2312  2023-10-30 00:50:10.756176          DR        NK        3A   \n2313  2023-10-30 00:50:10.756176          DR        NK        SL   \n2314  2023-10-30 00:50:10.756176          DR       BSL        2A   \n2315  2023-10-30 00:50:10.756176          DR       BSL        3A   \n\n      total_sub_res  total_sub_res_sub_sup  if_offering_catering  \\\n2311           1390                   1390                 False   \n2312           1010                   1010                 False   \n2313            365                    365                 False   \n2314           1390                   1390                 False   \n2315           1010                   1010                 False   \n\n      if_dynamic_fare  \n2311            False  \n2312            False  \n2313            False  \n2314            False  \n2315            False  ",
      "text/html": "<div>\n<style scoped>\n    .dataframe tbody tr th:only-of-type {\n        vertical-align: middle;\n    }\n\n    .dataframe tbody tr th {\n        vertical-align: top;\n    }\n\n    .dataframe thead th {\n        text-align: right;\n    }\n</style>\n<table border=\"1\" class=\"dataframe\">\n  <thead>\n    <tr style=\"text-align: right;\">\n      <th></th>\n      <th>baseFare</th>\n      <th>reservationCharge</th>\n      <th>superfastCharge</th>\n      <th>serviceTax</th>\n      <th>cateringCharge</th>\n      <th>dynamicFare</th>\n      <th>totalFare</th>\n      <th>availability</th>\n      <th>trainNumber</th>\n      <th>timeStamp</th>\n      <th>fromStnCode</th>\n      <th>toStnCode</th>\n      <th>classCode</th>\n      <th>total_sub_res</th>\n      <th>total_sub_res_sub_sup</th>\n      <th>if_offering_catering</th>\n      <th>if_dynamic_fare</th>\n    </tr>\n  </thead>\n  <tbody>\n    <tr>\n      <th>2311</th>\n      <td>1321</td>\n      <td>50</td>\n      <td>0</td>\n      <td>69.0</td>\n      <td>0</td>\n      <td>0</td>\n      <td>1440</td>\n      <td>[{'date': '4-11-2023', 'status': 'NOT AVAILABL...</td>\n      <td>1027</td>\n      <td>2023-10-30 00:50:10.756176</td>\n      <td>DR</td>\n      <td>NK</td>\n      <td>2A</td>\n      <td>1390</td>\n      <td>1390</td>\n      <td>False</td>\n      <td>False</td>\n    </tr>\n    <tr>\n      <th>2312</th>\n      <td>960</td>\n      <td>40</td>\n      <td>0</td>\n      <td>50.0</td>\n      <td>0</td>\n      <td>0</td>\n      <td>1050</td>\n      <td>[{'date': '4-11-2023', 'status': 'NOT AVAILABL...</td>\n      <td>1027</td>\n      <td>2023-10-30 00:50:10.756176</td>\n      <td>DR</td>\n      <td>NK</td>\n      <td>3A</td>\n      <td>1010</td>\n      <td>1010</td>\n      <td>False</td>\n      <td>False</td>\n    </tr>\n    <tr>\n      <th>2313</th>\n      <td>365</td>\n      <td>20</td>\n      <td>0</td>\n      <td>0.0</td>\n      <td>0</td>\n      <td>0</td>\n      <td>385</td>\n      <td>[{'date': '4-11-2023', 'status': 'NOT AVAILABL...</td>\n      <td>1027</td>\n      <td>2023-10-30 00:50:10.756176</td>\n      <td>DR</td>\n      <td>NK</td>\n      <td>SL</td>\n      <td>365</td>\n      <td>365</td>\n      <td>False</td>\n      <td>False</td>\n    </tr>\n    <tr>\n      <th>2314</th>\n      <td>1321</td>\n      <td>50</td>\n      <td>0</td>\n      <td>69.0</td>\n      <td>0</td>\n      <td>0</td>\n      <td>1440</td>\n      <td>[{'date': '4-11-2023', 'status': 'PQWL16/WL11'...</td>\n      <td>1027</td>\n      <td>2023-10-30 00:50:10.756176</td>\n      <td>DR</td>\n      <td>BSL</td>\n      <td>2A</td>\n      <td>1390</td>\n      <td>1390</td>\n      <td>False</td>\n      <td>False</td>\n    </tr>\n    <tr>\n      <th>2315</th>\n      <td>960</td>\n      <td>40</td>\n      <td>0</td>\n      <td>50.0</td>\n      <td>0</td>\n      <td>0</td>\n      <td>1050</td>\n      <td>[{'date': '4-11-2023', 'status': 'PQWL28/WL17'...</td>\n      <td>1027</td>\n      <td>2023-10-30 00:50:10.756176</td>\n      <td>DR</td>\n      <td>BSL</td>\n      <td>3A</td>\n      <td>1010</td>\n      <td>1010</td>\n      <td>False</td>\n      <td>False</td>\n    </tr>\n  </tbody>\n</table>\n</div>"
     },
     "execution_count": 85,
     "metadata": {},
     "output_type": "execute_result"
    }
   ],
   "source": [
    "df.head()"
   ],
   "metadata": {
    "collapsed": false,
    "pycharm": {
     "name": "#%%\n"
    },
    "ExecuteTime": {
     "end_time": "2023-11-06T13:14:34.267389900Z",
     "start_time": "2023-11-06T13:14:34.246383200Z"
    }
   }
  },
  {
   "cell_type": "code",
   "execution_count": 5,
   "outputs": [],
   "source": [
    "df1 = df[['trainNumber', 'fromStnCode', 'toStnCode', 'classCode',\n",
    "         'totalFare']]\n",
    "df1.to_csv(\"../Data/processed_data/all_no_fare_analysis.csv\", index=False)"
   ],
   "metadata": {
    "collapsed": false,
    "pycharm": {
     "name": "#%%\n"
    }
   }
  },
  {
   "cell_type": "code",
   "execution_count": 86,
   "outputs": [
    {
     "name": "stderr",
     "output_type": "stream",
     "text": [
      "C:\\Users\\bhavy\\AppData\\Local\\Temp\\ipykernel_5288\\4231529205.py:3: SettingWithCopyWarning: \n",
      "A value is trying to be set on a copy of a slice from a DataFrame\n",
      "\n",
      "See the caveats in the documentation: https://pandas.pydata.org/pandas-docs/stable/user_guide/indexing.html#returning-a-view-versus-a-copy\n",
      "  df1.rename(columns={'total_sub_res_sub_sup': 'fare_to_predict'}, inplace=True)\n"
     ]
    }
   ],
   "source": [
    "df1 = df[['trainNumber', 'fromStnCode', 'toStnCode', 'classCode', 'if_offering_catering', 'if_dynamic_fare',\n",
    "         'total_sub_res_sub_sup']]\n",
    "df1.rename(columns={'total_sub_res_sub_sup': 'fare_to_predict'}, inplace=True)\n",
    "df1.to_csv(\"../Data/processed_data/all_fare_analyzed.csv\", index=False)"
   ],
   "metadata": {
    "collapsed": false,
    "pycharm": {
     "name": "#%%\n"
    },
    "ExecuteTime": {
     "end_time": "2023-11-06T13:14:49.339692100Z",
     "start_time": "2023-11-06T13:14:48.835358800Z"
    }
   }
  }
 ],
 "metadata": {
  "kernelspec": {
   "display_name": "Python 3",
   "language": "python",
   "name": "python3"
  },
  "language_info": {
   "codemirror_mode": {
    "name": "ipython",
    "version": 2
   },
   "file_extension": ".py",
   "mimetype": "text/x-python",
   "name": "python",
   "nbconvert_exporter": "python",
   "pygments_lexer": "ipython2",
   "version": "2.7.6"
  }
 },
 "nbformat": 4,
 "nbformat_minor": 0
}