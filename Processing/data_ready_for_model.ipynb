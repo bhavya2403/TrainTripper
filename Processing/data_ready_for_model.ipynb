{
 "cells": [
  {
   "cell_type": "code",
   "execution_count": 1,
   "metadata": {
    "pycharm": {
     "name": "#%%\n"
    },
    "ExecuteTime": {
     "end_time": "2023-11-07T12:05:58.324302500Z",
     "start_time": "2023-11-07T12:05:48.549550100Z"
    }
   },
   "outputs": [
    {
     "data": {
      "text/plain": "      station_code arrival_time departure_time  route_number  distance  \\\n0               MJ          NaN       08:30:00             1         0   \n1              FLD     09:20:00       09:35:00             1        26   \n2              KBK     11:00:00       14:40:00             1        47   \n3              FLD     16:00:00       16:15:00             1        69   \n4             MJMG     17:20:00            NaN             1        94   \n...            ...          ...            ...           ...       ...   \n71051         KOTA     17:40:00       17:50:00             1       778   \n71052          RTM     21:45:00       21:55:00             1      1045   \n71053          BRC     02:55:00       03:00:00             1      1306   \n71054           ST     05:00:00       05:03:00             1      1435   \n71055           BL     06:30:00       06:31:00             1      1504   \n\n       day_count  train_number  halt_time_minutes  duration_minutes  \n0              1           961                 -1               0.0  \n1              1           961                900              50.0  \n2              1           961              13200             150.0  \n3              1           961                900             450.0  \n4              1           961                 -1             530.0  \n...          ...           ...                ...               ...  \n71051          1          4125                600             740.0  \n71052          1          4125                600             985.0  \n71053          2          4125                300            1295.0  \n71054          2          4125                180            1420.0  \n71055          2          4125                 60            1510.0  \n\n[71056 rows x 9 columns]",
      "text/html": "<div>\n<style scoped>\n    .dataframe tbody tr th:only-of-type {\n        vertical-align: middle;\n    }\n\n    .dataframe tbody tr th {\n        vertical-align: top;\n    }\n\n    .dataframe thead th {\n        text-align: right;\n    }\n</style>\n<table border=\"1\" class=\"dataframe\">\n  <thead>\n    <tr style=\"text-align: right;\">\n      <th></th>\n      <th>station_code</th>\n      <th>arrival_time</th>\n      <th>departure_time</th>\n      <th>route_number</th>\n      <th>distance</th>\n      <th>day_count</th>\n      <th>train_number</th>\n      <th>halt_time_minutes</th>\n      <th>duration_minutes</th>\n    </tr>\n  </thead>\n  <tbody>\n    <tr>\n      <th>0</th>\n      <td>MJ</td>\n      <td>NaN</td>\n      <td>08:30:00</td>\n      <td>1</td>\n      <td>0</td>\n      <td>1</td>\n      <td>961</td>\n      <td>-1</td>\n      <td>0.0</td>\n    </tr>\n    <tr>\n      <th>1</th>\n      <td>FLD</td>\n      <td>09:20:00</td>\n      <td>09:35:00</td>\n      <td>1</td>\n      <td>26</td>\n      <td>1</td>\n      <td>961</td>\n      <td>900</td>\n      <td>50.0</td>\n    </tr>\n    <tr>\n      <th>2</th>\n      <td>KBK</td>\n      <td>11:00:00</td>\n      <td>14:40:00</td>\n      <td>1</td>\n      <td>47</td>\n      <td>1</td>\n      <td>961</td>\n      <td>13200</td>\n      <td>150.0</td>\n    </tr>\n    <tr>\n      <th>3</th>\n      <td>FLD</td>\n      <td>16:00:00</td>\n      <td>16:15:00</td>\n      <td>1</td>\n      <td>69</td>\n      <td>1</td>\n      <td>961</td>\n      <td>900</td>\n      <td>450.0</td>\n    </tr>\n    <tr>\n      <th>4</th>\n      <td>MJMG</td>\n      <td>17:20:00</td>\n      <td>NaN</td>\n      <td>1</td>\n      <td>94</td>\n      <td>1</td>\n      <td>961</td>\n      <td>-1</td>\n      <td>530.0</td>\n    </tr>\n    <tr>\n      <th>...</th>\n      <td>...</td>\n      <td>...</td>\n      <td>...</td>\n      <td>...</td>\n      <td>...</td>\n      <td>...</td>\n      <td>...</td>\n      <td>...</td>\n      <td>...</td>\n    </tr>\n    <tr>\n      <th>71051</th>\n      <td>KOTA</td>\n      <td>17:40:00</td>\n      <td>17:50:00</td>\n      <td>1</td>\n      <td>778</td>\n      <td>1</td>\n      <td>4125</td>\n      <td>600</td>\n      <td>740.0</td>\n    </tr>\n    <tr>\n      <th>71052</th>\n      <td>RTM</td>\n      <td>21:45:00</td>\n      <td>21:55:00</td>\n      <td>1</td>\n      <td>1045</td>\n      <td>1</td>\n      <td>4125</td>\n      <td>600</td>\n      <td>985.0</td>\n    </tr>\n    <tr>\n      <th>71053</th>\n      <td>BRC</td>\n      <td>02:55:00</td>\n      <td>03:00:00</td>\n      <td>1</td>\n      <td>1306</td>\n      <td>2</td>\n      <td>4125</td>\n      <td>300</td>\n      <td>1295.0</td>\n    </tr>\n    <tr>\n      <th>71054</th>\n      <td>ST</td>\n      <td>05:00:00</td>\n      <td>05:03:00</td>\n      <td>1</td>\n      <td>1435</td>\n      <td>2</td>\n      <td>4125</td>\n      <td>180</td>\n      <td>1420.0</td>\n    </tr>\n    <tr>\n      <th>71055</th>\n      <td>BL</td>\n      <td>06:30:00</td>\n      <td>06:31:00</td>\n      <td>1</td>\n      <td>1504</td>\n      <td>2</td>\n      <td>4125</td>\n      <td>60</td>\n      <td>1510.0</td>\n    </tr>\n  </tbody>\n</table>\n<p>71056 rows × 9 columns</p>\n</div>"
     },
     "execution_count": 1,
     "metadata": {},
     "output_type": "execute_result"
    }
   ],
   "source": [
    "#making final schedules\n",
    "import pandas as pd\n",
    "from datetime import datetime, timedelta\n",
    "\n",
    "df = pd.read_csv('../Data/dataset_for_schedules/traintripper_trainschedules.csv')\n",
    "\n",
    "durations = []\n",
    "for train_number in df['train_number'].unique():\n",
    "    relevant_data = df[df['train_number'] == train_number]\n",
    "    duration = 0\n",
    "    prev_day_count = relevant_data.iloc[0]['day_count']\n",
    "\n",
    "    for i in range(len(relevant_data)):\n",
    "        if i==0:\n",
    "            duration = 0\n",
    "            durations.append(duration)\n",
    "            departure = datetime.strptime(str(relevant_data.iloc[i]['departure_time']), '%H:%M:%S')\n",
    "            continue\n",
    "        else:\n",
    "            arrival = datetime.strptime(str(relevant_data.iloc[i]['arrival_time']), '%H:%M:%S')\n",
    "            if relevant_data.iloc[i]['day_count'] > prev_day_count:\n",
    "                day = int(relevant_data.iloc[i]['day_count']) - int(prev_day_count)\n",
    "                arrival += timedelta(days=day) # Add a day to the arrival time\n",
    "            diff = arrival - departure\n",
    "            duration = diff.total_seconds()/60 \n",
    "\n",
    "            durations.append(duration)\n",
    "        \n",
    "\n",
    "df['duration_minutes'] = durations\n",
    "\n",
    "\n",
    "# to csv\n",
    "df.to_csv('../Data/processed_data/final_schedules.csv', index=False)\n",
    "df"
   ]
  },
  {
   "cell_type": "code",
   "execution_count": 1,
   "outputs": [
    {
     "data": {
      "text/plain": "        trainNumber fromStnCode toStnCode  totalFare     1A     2A     2S  \\\n0             11464         JBP      SRID       1175   True  False  False   \n1             11464         JBP      SRID        710  False   True  False   \n2             11464         JBP      SRID        505  False  False  False   \n3             11464         JBP      SRID        145  False  False  False   \n4             11464         JBP       KKB       1175   True  False  False   \n...             ...         ...       ...        ...    ...    ...    ...   \n326638        22420          BE       ARJ        915  False  False  False   \n326639        22420          BE       ARJ        915  False  False  False   \n326640        22420          BE       ARJ        915  False  False  False   \n326641        22420          BE       ARJ        915  False  False  False   \n326642        22420          BE       ARJ        915  False  False  False   \n\n           3A     CC     SL  \n0       False  False  False  \n1       False  False  False  \n2        True  False  False  \n3       False  False   True  \n4       False  False  False  \n...       ...    ...    ...  \n326638   True  False  False  \n326639   True  False  False  \n326640   True  False  False  \n326641   True  False  False  \n326642   True  False  False  \n\n[326643 rows x 10 columns]",
      "text/html": "<div>\n<style scoped>\n    .dataframe tbody tr th:only-of-type {\n        vertical-align: middle;\n    }\n\n    .dataframe tbody tr th {\n        vertical-align: top;\n    }\n\n    .dataframe thead th {\n        text-align: right;\n    }\n</style>\n<table border=\"1\" class=\"dataframe\">\n  <thead>\n    <tr style=\"text-align: right;\">\n      <th></th>\n      <th>trainNumber</th>\n      <th>fromStnCode</th>\n      <th>toStnCode</th>\n      <th>totalFare</th>\n      <th>1A</th>\n      <th>2A</th>\n      <th>2S</th>\n      <th>3A</th>\n      <th>CC</th>\n      <th>SL</th>\n    </tr>\n  </thead>\n  <tbody>\n    <tr>\n      <th>0</th>\n      <td>11464</td>\n      <td>JBP</td>\n      <td>SRID</td>\n      <td>1175</td>\n      <td>True</td>\n      <td>False</td>\n      <td>False</td>\n      <td>False</td>\n      <td>False</td>\n      <td>False</td>\n    </tr>\n    <tr>\n      <th>1</th>\n      <td>11464</td>\n      <td>JBP</td>\n      <td>SRID</td>\n      <td>710</td>\n      <td>False</td>\n      <td>True</td>\n      <td>False</td>\n      <td>False</td>\n      <td>False</td>\n      <td>False</td>\n    </tr>\n    <tr>\n      <th>2</th>\n      <td>11464</td>\n      <td>JBP</td>\n      <td>SRID</td>\n      <td>505</td>\n      <td>False</td>\n      <td>False</td>\n      <td>False</td>\n      <td>True</td>\n      <td>False</td>\n      <td>False</td>\n    </tr>\n    <tr>\n      <th>3</th>\n      <td>11464</td>\n      <td>JBP</td>\n      <td>SRID</td>\n      <td>145</td>\n      <td>False</td>\n      <td>False</td>\n      <td>False</td>\n      <td>False</td>\n      <td>False</td>\n      <td>True</td>\n    </tr>\n    <tr>\n      <th>4</th>\n      <td>11464</td>\n      <td>JBP</td>\n      <td>KKB</td>\n      <td>1175</td>\n      <td>True</td>\n      <td>False</td>\n      <td>False</td>\n      <td>False</td>\n      <td>False</td>\n      <td>False</td>\n    </tr>\n    <tr>\n      <th>...</th>\n      <td>...</td>\n      <td>...</td>\n      <td>...</td>\n      <td>...</td>\n      <td>...</td>\n      <td>...</td>\n      <td>...</td>\n      <td>...</td>\n      <td>...</td>\n      <td>...</td>\n    </tr>\n    <tr>\n      <th>326638</th>\n      <td>22420</td>\n      <td>BE</td>\n      <td>ARJ</td>\n      <td>915</td>\n      <td>False</td>\n      <td>False</td>\n      <td>False</td>\n      <td>True</td>\n      <td>False</td>\n      <td>False</td>\n    </tr>\n    <tr>\n      <th>326639</th>\n      <td>22420</td>\n      <td>BE</td>\n      <td>ARJ</td>\n      <td>915</td>\n      <td>False</td>\n      <td>False</td>\n      <td>False</td>\n      <td>True</td>\n      <td>False</td>\n      <td>False</td>\n    </tr>\n    <tr>\n      <th>326640</th>\n      <td>22420</td>\n      <td>BE</td>\n      <td>ARJ</td>\n      <td>915</td>\n      <td>False</td>\n      <td>False</td>\n      <td>False</td>\n      <td>True</td>\n      <td>False</td>\n      <td>False</td>\n    </tr>\n    <tr>\n      <th>326641</th>\n      <td>22420</td>\n      <td>BE</td>\n      <td>ARJ</td>\n      <td>915</td>\n      <td>False</td>\n      <td>False</td>\n      <td>False</td>\n      <td>True</td>\n      <td>False</td>\n      <td>False</td>\n    </tr>\n    <tr>\n      <th>326642</th>\n      <td>22420</td>\n      <td>BE</td>\n      <td>ARJ</td>\n      <td>915</td>\n      <td>False</td>\n      <td>False</td>\n      <td>False</td>\n      <td>True</td>\n      <td>False</td>\n      <td>False</td>\n    </tr>\n  </tbody>\n</table>\n<p>326643 rows × 10 columns</p>\n</div>"
     },
     "execution_count": 1,
     "metadata": {},
     "output_type": "execute_result"
    }
   ],
   "source": [
    "# one hat encoding\n",
    "import pandas as pd\n",
    "\n",
    "df2 = pd.read_csv('../Data/processed_data/all_fare_analyzed.csv')\n",
    "\n",
    "dummies = pd.get_dummies(df2['classCode'])\n",
    "merged = pd.concat([df2, dummies], axis='columns')\n",
    "final = merged.drop(['classCode'], axis='columns')\n",
    "final"
   ],
   "metadata": {
    "collapsed": false,
    "pycharm": {
     "name": "#%%\n"
    },
    "ExecuteTime": {
     "end_time": "2023-11-06T13:15:15.348915400Z",
     "start_time": "2023-11-06T13:15:15.030587100Z"
    }
   }
  },
  {
   "cell_type": "code",
   "execution_count": 2,
   "outputs": [],
   "source": [
    "final.to_csv(\"../Data/processed_data/all_hot_encoded.csv\", index=False)"
   ],
   "metadata": {
    "collapsed": false,
    "pycharm": {
     "name": "#%%\n"
    },
    "ExecuteTime": {
     "end_time": "2023-11-06T13:15:24.996954400Z",
     "start_time": "2023-11-06T13:15:23.514771Z"
    }
   }
  },
  {
   "cell_type": "code",
   "execution_count": 4,
   "outputs": [],
   "source": [
    "import pandas as pd\n",
    "\n",
    "df = pd.read_csv('../Data/processed_data/final_schedules.csv')\n",
    "\n",
    "distance_map = {}\n",
    "\n",
    "for index, row in df.iterrows():\n",
    "    key = (row['train_number'], row['station_code'] )\n",
    "    distance = row['distance']\n",
    "    duration = row['duration_minutes']\n",
    "    # distance_map[key] = distance\n",
    "    distance_map[key] = (distance, duration)\n",
    "\n",
    "static_df = pd.read_csv('../Data/processed_data/all_hot_encoded.csv')\n",
    "\n",
    "# Create a new 'distance' column and initialize it with None\n",
    "static_df['distance'] = None\n",
    "static_df['duration'] = None\n",
    "\n",
    "# Iterate through the rows of the static DataFrame and populate the 'distance' column\n",
    "for index, row in static_df.iterrows():\n",
    "    train_number = row['trainNumber']\n",
    "    from_stn = row['fromStnCode']\n",
    "    to_stn = row['toStnCode']\n",
    "    \n",
    "    # Look up the distance in the distance_map using trainNumber and fromStn\n",
    "    key1 = distance_map.get((train_number, from_stn), None)\n",
    "    key2 = distance_map.get((train_number, to_stn), None)\n",
    "    \n",
    "    cal_distance = key2[0] - key1[0]\n",
    "    cal_duration = key2[1] - key1[1]\n",
    "\n",
    "    # Update the 'distance' column with the distance value\n",
    "    static_df.at[index, 'distance'] = cal_distance\n",
    "    static_df.at[index, 'duration'] = cal_duration    "
   ],
   "metadata": {
    "collapsed": false,
    "pycharm": {
     "name": "#%%\n"
    },
    "ExecuteTime": {
     "end_time": "2023-11-07T12:06:28.412887900Z",
     "start_time": "2023-11-07T12:06:02.219103800Z"
    }
   }
  },
  {
   "cell_type": "code",
   "execution_count": 5,
   "outputs": [],
   "source": [
    "map1 = {str(k): v for k, v in distance_map.items()}"
   ],
   "metadata": {
    "collapsed": false,
    "ExecuteTime": {
     "end_time": "2023-11-07T12:08:41.668686200Z",
     "start_time": "2023-11-07T12:08:41.588299100Z"
    },
    "pycharm": {
     "name": "#%%\n"
    }
   }
  },
  {
   "cell_type": "code",
   "execution_count": 6,
   "outputs": [],
   "source": [
    "import json\n",
    "json.dump(map1, open(\"../Data/precomputes/distance_map\", 'w'))"
   ],
   "metadata": {
    "collapsed": false,
    "ExecuteTime": {
     "end_time": "2023-11-07T12:09:39.376717700Z",
     "start_time": "2023-11-07T12:09:39.057927Z"
    },
    "pycharm": {
     "name": "#%%\n"
    }
   }
  },
  {
   "cell_type": "code",
   "execution_count": 6,
   "outputs": [
    {
     "data": {
      "text/plain": "        trainNumber fromStnCode toStnCode  totalFare     1A     2A     2S  \\\n0             11464         JBP      SRID       1175   True  False  False   \n1             11464         JBP      SRID        710  False   True  False   \n2             11464         JBP      SRID        505  False  False  False   \n3             11464         JBP      SRID        145  False  False  False   \n4             11464         JBP       KKB       1175   True  False  False   \n...             ...         ...       ...        ...    ...    ...    ...   \n326638        22420          BE       ARJ        915  False  False  False   \n326639        22420          BE       ARJ        915  False  False  False   \n326640        22420          BE       ARJ        915  False  False  False   \n326641        22420          BE       ARJ        915  False  False  False   \n326642        22420          BE       ARJ        915  False  False  False   \n\n           3A     CC     SL distance duration  \n0       False  False  False       54     33.0  \n1       False  False  False       54     33.0  \n2        True  False  False       54     33.0  \n3       False  False   True       54     33.0  \n4       False  False  False       69     49.0  \n...       ...    ...    ...      ...      ...  \n326638   True  False  False      532    570.0  \n326639   True  False  False      532    570.0  \n326640   True  False  False      532    570.0  \n326641   True  False  False      532    570.0  \n326642   True  False  False      532    570.0  \n\n[326643 rows x 12 columns]",
      "text/html": "<div>\n<style scoped>\n    .dataframe tbody tr th:only-of-type {\n        vertical-align: middle;\n    }\n\n    .dataframe tbody tr th {\n        vertical-align: top;\n    }\n\n    .dataframe thead th {\n        text-align: right;\n    }\n</style>\n<table border=\"1\" class=\"dataframe\">\n  <thead>\n    <tr style=\"text-align: right;\">\n      <th></th>\n      <th>trainNumber</th>\n      <th>fromStnCode</th>\n      <th>toStnCode</th>\n      <th>totalFare</th>\n      <th>1A</th>\n      <th>2A</th>\n      <th>2S</th>\n      <th>3A</th>\n      <th>CC</th>\n      <th>SL</th>\n      <th>distance</th>\n      <th>duration</th>\n    </tr>\n  </thead>\n  <tbody>\n    <tr>\n      <th>0</th>\n      <td>11464</td>\n      <td>JBP</td>\n      <td>SRID</td>\n      <td>1175</td>\n      <td>True</td>\n      <td>False</td>\n      <td>False</td>\n      <td>False</td>\n      <td>False</td>\n      <td>False</td>\n      <td>54</td>\n      <td>33.0</td>\n    </tr>\n    <tr>\n      <th>1</th>\n      <td>11464</td>\n      <td>JBP</td>\n      <td>SRID</td>\n      <td>710</td>\n      <td>False</td>\n      <td>True</td>\n      <td>False</td>\n      <td>False</td>\n      <td>False</td>\n      <td>False</td>\n      <td>54</td>\n      <td>33.0</td>\n    </tr>\n    <tr>\n      <th>2</th>\n      <td>11464</td>\n      <td>JBP</td>\n      <td>SRID</td>\n      <td>505</td>\n      <td>False</td>\n      <td>False</td>\n      <td>False</td>\n      <td>True</td>\n      <td>False</td>\n      <td>False</td>\n      <td>54</td>\n      <td>33.0</td>\n    </tr>\n    <tr>\n      <th>3</th>\n      <td>11464</td>\n      <td>JBP</td>\n      <td>SRID</td>\n      <td>145</td>\n      <td>False</td>\n      <td>False</td>\n      <td>False</td>\n      <td>False</td>\n      <td>False</td>\n      <td>True</td>\n      <td>54</td>\n      <td>33.0</td>\n    </tr>\n    <tr>\n      <th>4</th>\n      <td>11464</td>\n      <td>JBP</td>\n      <td>KKB</td>\n      <td>1175</td>\n      <td>True</td>\n      <td>False</td>\n      <td>False</td>\n      <td>False</td>\n      <td>False</td>\n      <td>False</td>\n      <td>69</td>\n      <td>49.0</td>\n    </tr>\n    <tr>\n      <th>...</th>\n      <td>...</td>\n      <td>...</td>\n      <td>...</td>\n      <td>...</td>\n      <td>...</td>\n      <td>...</td>\n      <td>...</td>\n      <td>...</td>\n      <td>...</td>\n      <td>...</td>\n      <td>...</td>\n      <td>...</td>\n    </tr>\n    <tr>\n      <th>326638</th>\n      <td>22420</td>\n      <td>BE</td>\n      <td>ARJ</td>\n      <td>915</td>\n      <td>False</td>\n      <td>False</td>\n      <td>False</td>\n      <td>True</td>\n      <td>False</td>\n      <td>False</td>\n      <td>532</td>\n      <td>570.0</td>\n    </tr>\n    <tr>\n      <th>326639</th>\n      <td>22420</td>\n      <td>BE</td>\n      <td>ARJ</td>\n      <td>915</td>\n      <td>False</td>\n      <td>False</td>\n      <td>False</td>\n      <td>True</td>\n      <td>False</td>\n      <td>False</td>\n      <td>532</td>\n      <td>570.0</td>\n    </tr>\n    <tr>\n      <th>326640</th>\n      <td>22420</td>\n      <td>BE</td>\n      <td>ARJ</td>\n      <td>915</td>\n      <td>False</td>\n      <td>False</td>\n      <td>False</td>\n      <td>True</td>\n      <td>False</td>\n      <td>False</td>\n      <td>532</td>\n      <td>570.0</td>\n    </tr>\n    <tr>\n      <th>326641</th>\n      <td>22420</td>\n      <td>BE</td>\n      <td>ARJ</td>\n      <td>915</td>\n      <td>False</td>\n      <td>False</td>\n      <td>False</td>\n      <td>True</td>\n      <td>False</td>\n      <td>False</td>\n      <td>532</td>\n      <td>570.0</td>\n    </tr>\n    <tr>\n      <th>326642</th>\n      <td>22420</td>\n      <td>BE</td>\n      <td>ARJ</td>\n      <td>915</td>\n      <td>False</td>\n      <td>False</td>\n      <td>False</td>\n      <td>True</td>\n      <td>False</td>\n      <td>False</td>\n      <td>532</td>\n      <td>570.0</td>\n    </tr>\n  </tbody>\n</table>\n<p>326643 rows × 12 columns</p>\n</div>"
     },
     "execution_count": 6,
     "metadata": {},
     "output_type": "execute_result"
    }
   ],
   "source": [
    "static_df"
   ],
   "metadata": {
    "collapsed": false,
    "pycharm": {
     "name": "#%%\n"
    },
    "ExecuteTime": {
     "end_time": "2023-11-06T13:16:10.583876400Z",
     "start_time": "2023-11-06T13:16:10.553975700Z"
    }
   }
  },
  {
   "cell_type": "code",
   "execution_count": 7,
   "outputs": [],
   "source": [
    "static_df.drop(['trainNumber', 'fromStnCode', 'toStnCode'], axis=1, inplace=True)"
   ],
   "metadata": {
    "collapsed": false,
    "pycharm": {
     "name": "#%%\n"
    },
    "ExecuteTime": {
     "end_time": "2023-11-06T13:16:16.383423Z",
     "start_time": "2023-11-06T13:16:16.345087100Z"
    }
   }
  },
  {
   "cell_type": "code",
   "execution_count": 8,
   "outputs": [],
   "source": [
    "static_df.to_csv('../Data/processed_data/all_final_for_model.csv', index=False)"
   ],
   "metadata": {
    "collapsed": false,
    "pycharm": {
     "name": "#%%\n"
    },
    "ExecuteTime": {
     "end_time": "2023-11-06T13:16:22.234369800Z",
     "start_time": "2023-11-06T13:16:21.002996500Z"
    }
   }
  }
 ],
 "metadata": {
  "kernelspec": {
   "display_name": "Python 3",
   "language": "python",
   "name": "python3"
  },
  "language_info": {
   "codemirror_mode": {
    "name": "ipython",
    "version": 3
   },
   "file_extension": ".py",
   "mimetype": "text/x-python",
   "name": "python",
   "nbconvert_exporter": "python",
   "pygments_lexer": "ipython3",
   "version": "3.11.4"
  }
 },
 "nbformat": 4,
 "nbformat_minor": 2
}