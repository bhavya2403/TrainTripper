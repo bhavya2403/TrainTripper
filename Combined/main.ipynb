{
 "cells": [
  {
   "cell_type": "code",
   "execution_count": 10,
   "outputs": [],
   "source": [
    "import json\n",
    "import joblib\n",
    "import datetime\n",
    "import pandas as pd\n",
    "from urllib.parse import quote_plus\n",
    "from decouple import config\n",
    "from SearchAlgorithm.algo_object_oriented import TrainsFinder"
   ],
   "metadata": {
    "collapsed": false,
    "pycharm": {
     "name": "#%%\n"
    }
   }
  },
  {
   "cell_type": "code",
   "execution_count": 11,
   "outputs": [],
   "source": [
    "base_path = \"..\"\n",
    "class_codes = ['1A', '2A', '3A', 'SL', '2S', 'CC']"
   ],
   "metadata": {
    "collapsed": false,
    "pycharm": {
     "name": "#%%\n"
    }
   }
  },
  {
   "cell_type": "code",
   "execution_count": 12,
   "outputs": [],
   "source": [
    "class TripPlannerWithPrices:\n",
    "    def __init__(self, database_url, price_model_name):\n",
    "        self.train_finder = TrainsFinder(database_url)\n",
    "        self.model = joblib.load(f\"{base_path}/Modelling/trained_models/{price_model_name}.pkl\")\n",
    "        self.distance_map: dict\n",
    "        self.catering_trains: list\n",
    "        self.reservation_charge: list\n",
    "        self.superfast_charge: list\n",
    "        self.train_classes_df: list\n",
    "        self.precompute()\n",
    "\n",
    "    def precompute(self):\n",
    "        map_tmp = json.load(open(f\"{base_path}/Data/precomputes/distance_map\"))\n",
    "        keys = list(map(eval, map_tmp.keys()))\n",
    "        self.distance_map = {key: val for key, val in zip(keys, map_tmp.values())}\n",
    "\n",
    "        train_classes = json.load(open(f\"{base_path}/Data/precomputes/train_classes\"))\n",
    "        dct = {}\n",
    "        self.train_classes_df = pd.DataFrame(columns=class_codes)\n",
    "        for tn, codes in train_classes.items():\n",
    "            for cc in codes:\n",
    "                dct[len(dct)] = {'trainNumber': int(tn), 'classCode': cc}\n",
    "        self.train_classes_df = pd.DataFrame(dct).T\n",
    "\n",
    "        self.catering_trains = json.load(open(f\"{base_path}/Data/precomputes/catering_trains.json\"))\n",
    "        self.dynamicfare_trains = json.load(open(f\"{base_path}/Data/precomputes/dynamicfare_trains.json\"))\n",
    "        self.reservation_charge = json.load(open(f\"{base_path}/Data/precomputes/reservation_charge.json\"))\n",
    "        self.superfast_charge = json.load(open(f\"{base_path}/Data/precomputes/superfast_charge.json\"))\n",
    "\n",
    "    def get_basic_df_direct(self, direct_trains):\n",
    "        return direct_trains[['trainNumber', 'fromStnCode', 'toStnCode']]\n",
    "\n",
    "    def get_basic_df_indirect(self, indirect_trains):\n",
    "        df1 = indirect_trains[['trainNumber1', 'fromStnCode', 'haltStation']]\n",
    "        df1.rename({'trainNumber1': 'trainNumber', 'haltStation': 'toStnCode'}, axis=1, inplace=True)\n",
    "        df2 = indirect_trains[['trainNumber2', 'haltStation', 'toStnCode']]\n",
    "        df2.rename({'trainNumber2': 'trainNumber', 'haltStation': 'fromStnCode'}, axis=1, inplace=True)\n",
    "        basic_df = pd.concat([df1, df2])\n",
    "        return basic_df.reset_index(drop=True)\n",
    "\n",
    "    def add_classes(self, basic_df):\n",
    "        merged = pd.merge(basic_df, self.train_classes_df, 'inner')\n",
    "        dummies = pd.get_dummies(merged.classCode)\n",
    "        for cc in class_codes:\n",
    "            if cc not in dummies.columns:\n",
    "                dummies[cc] = False\n",
    "        return pd.concat([merged.drop(['classCode'], axis=1), dummies], axis=1)\n",
    "\n",
    "    def add_dynamics_catering(self, trains):\n",
    "        trains['if_dynamic_fare'] = trains['trainNumber'].isin(self.dynamicfare_trains)\n",
    "        trains['if_offering_catering'] = trains['trainNumber'].isin(self.catering_trains)\n",
    "        return trains\n",
    "\n",
    "    def add_distance_duration(self, trains):\n",
    "        def apply_func(row):\n",
    "            key1 = self.distance_map.get((row['trainNumber'], row['fromStnCode']), None)\n",
    "            key2 = self.distance_map.get((row['trainNumber'], row['toStnCode']), None)\n",
    "            return pd.Series({'distance': key2[0] - key1[0], 'duration': key2[1] - key1[1]})\n",
    "        distance_duration = trains.apply(apply_func, axis=1)\n",
    "        return pd.concat([trains, distance_duration], axis=1)\n",
    "\n",
    "    def get_prices_from_model(self, df):\n",
    "        return self.model.predict(df[self.model.feature_names_in_])\n",
    "\n",
    "    def set_prices_direct(self, direct_trains, predictions):\n",
    "        direct_trains_dct = direct_trains.T.to_dict()\n",
    "        drop = []\n",
    "        for key, row in direct_trains_dct.items():\n",
    "            if (row['trainNumber'], row['fromStnCode'], row['toStnCode']) in predictions.index:\n",
    "                df_tmp = predictions.loc[(row['trainNumber'], row['fromStnCode'], row['toStnCode'])]\n",
    "                direct_trains_dct[key]['prices'] = df_tmp.to_json(orient='records')\n",
    "            else:\n",
    "                drop.append(key)\n",
    "        return {k: v for k, v in direct_trains_dct.items() if k not in drop}\n",
    "\n",
    "    def set_prices_indirect(self, indirect_trains, predictions):\n",
    "        indirect_trains_dct = indirect_trains.T.to_dict()\n",
    "        drop = []\n",
    "        for key, row in indirect_trains_dct.items():\n",
    "            if ((row['trainNumber1'], row['fromStnCode'], row['haltStation']) in predictions.index and\n",
    "                    (row['trainNumber2'], row['haltStation'], row['toStnCode']) in predictions.index):\n",
    "                df_tmp = predictions.loc[(row['trainNumber1'], row['fromStnCode'], row['haltStation'])]\n",
    "                indirect_trains_dct[key]['price1'] = df_tmp.to_json(orient='records')\n",
    "                df_tmp = predictions.loc[(row['trainNumber2'], row['haltStation'], row['toStnCode'])]\n",
    "                indirect_trains_dct[key]['price2'] = df_tmp.to_json(orient='records')\n",
    "            else:\n",
    "                drop.append(key)\n",
    "        return {k: v for k, v in indirect_trains_dct.items() if k not in drop}\n",
    "\n",
    "    def format_predictions(self, df_pred):\n",
    "        df_pred['classCode'] = df_pred[class_codes].idxmax(axis=1)\n",
    "        return df_pred[['classCode', 'price']]\n",
    "\n",
    "    def query(self, source_station: str, dest_station: str, date_obj: datetime.date):\n",
    "        direct_trains, indirect_trains = self.train_finder.multi_train_itineraries(source_station, dest_station, date_obj)\n",
    "\n",
    "        df_pred_direct = self.add_distance_duration(self.add_dynamics_catering(\n",
    "            self.add_classes(self.get_basic_df_direct(direct_trains))))\n",
    "        df_pred_indirect = self.add_distance_duration(self.add_dynamics_catering(\n",
    "            self.add_classes(self.get_basic_df_indirect(indirect_trains))))\n",
    "        df_pred = pd.concat([df_pred_direct, df_pred_indirect]).drop_duplicates()\n",
    "        df_pred.set_index(['trainNumber', 'fromStnCode', 'toStnCode'], inplace=True)\n",
    "\n",
    "        df_pred['price'] = self.get_prices_from_model(df_pred)\n",
    "        predictions = self.format_predictions(df_pred)\n",
    "        direct_trains_dct = self.set_prices_direct(direct_trains, predictions)\n",
    "        indirect_trains_dct = self.set_prices_indirect(indirect_trains, predictions)\n",
    "        return pd.DataFrame(direct_trains_dct).T, pd.DataFrame(indirect_trains_dct).T\n"
   ],
   "metadata": {
    "collapsed": false,
    "pycharm": {
     "name": "#%%\n"
    }
   }
  },
  {
   "cell_type": "code",
   "execution_count": 14,
   "outputs": [],
   "source": [
    "planner = TripPlannerWithPrices(\n",
    "    \"postgresql://postgres:%s@localhost:5432/traintripper\" % quote_plus(\"Bhavya@2003\"),\n",
    "    \"decision_tree_regression\"\n",
    ")"
   ],
   "metadata": {
    "collapsed": false,
    "pycharm": {
     "name": "#%%\n"
    }
   }
  },
  {
   "cell_type": "code",
   "execution_count": 15,
   "outputs": [
    {
     "name": "stderr",
     "output_type": "stream",
     "text": [
      "D:\\LearningPython\\ML\\Project\\SearchAlgorithm\\algo_object_oriented.py:159: SettingWithCopyWarning: \n",
      "A value is trying to be set on a copy of a slice from a DataFrame.\n",
      "Try using .loc[row_indexer,col_indexer] = value instead\n",
      "\n",
      "See the caveats in the documentation: https://pandas.pydata.org/pandas-docs/stable/user_guide/indexing.html#returning-a-view-versus-a-copy\n",
      "  trains_df['fromArrival']=pd.to_datetime(pd.Series([dep_date] * len(trains_df))) + \\\n",
      "D:\\LearningPython\\ML\\Project\\SearchAlgorithm\\algo_object_oriented.py:161: SettingWithCopyWarning: \n",
      "A value is trying to be set on a copy of a slice from a DataFrame.\n",
      "Try using .loc[row_indexer,col_indexer] = value instead\n",
      "\n",
      "See the caveats in the documentation: https://pandas.pydata.org/pandas-docs/stable/user_guide/indexing.html#returning-a-view-versus-a-copy\n",
      "  trains_df['fromDeparture']=pd.to_datetime(pd.Series([dep_date] * len(trains_df))) + \\\n",
      "D:\\LearningPython\\ML\\Project\\SearchAlgorithm\\algo_object_oriented.py:163: SettingWithCopyWarning: \n",
      "A value is trying to be set on a copy of a slice from a DataFrame.\n",
      "Try using .loc[row_indexer,col_indexer] = value instead\n",
      "\n",
      "See the caveats in the documentation: https://pandas.pydata.org/pandas-docs/stable/user_guide/indexing.html#returning-a-view-versus-a-copy\n",
      "  trains_df['haltArrival'] = pd.to_datetime(trains_df.halt_arrival) + \\\n",
      "D:\\LearningPython\\ML\\Project\\SearchAlgorithm\\algo_object_oriented.py:165: SettingWithCopyWarning: \n",
      "A value is trying to be set on a copy of a slice from a DataFrame.\n",
      "Try using .loc[row_indexer,col_indexer] = value instead\n",
      "\n",
      "See the caveats in the documentation: https://pandas.pydata.org/pandas-docs/stable/user_guide/indexing.html#returning-a-view-versus-a-copy\n",
      "  trains_df['haltDeparture']=pd.to_datetime(trains_df.halt_departure) + \\\n",
      "D:\\LearningPython\\ML\\Project\\SearchAlgorithm\\algo_object_oriented.py:167: SettingWithCopyWarning: \n",
      "A value is trying to be set on a copy of a slice from a DataFrame.\n",
      "Try using .loc[row_indexer,col_indexer] = value instead\n",
      "\n",
      "See the caveats in the documentation: https://pandas.pydata.org/pandas-docs/stable/user_guide/indexing.html#returning-a-view-versus-a-copy\n",
      "  trains_df['toArrival']=pd.to_datetime(trains_df['reach_date']) + \\\n",
      "D:\\LearningPython\\ML\\Project\\SearchAlgorithm\\algo_object_oriented.py:169: SettingWithCopyWarning: \n",
      "A value is trying to be set on a copy of a slice from a DataFrame.\n",
      "Try using .loc[row_indexer,col_indexer] = value instead\n",
      "\n",
      "See the caveats in the documentation: https://pandas.pydata.org/pandas-docs/stable/user_guide/indexing.html#returning-a-view-versus-a-copy\n",
      "  trains_df['toDeparture']=pd.to_datetime(trains_df.reach_date) + \\\n",
      "D:\\LearningPython\\ML\\Project\\SearchAlgorithm\\algo_object_oriented.py:175: SettingWithCopyWarning: \n",
      "A value is trying to be set on a copy of a slice from a DataFrame\n",
      "\n",
      "See the caveats in the documentation: https://pandas.pydata.org/pandas-docs/stable/user_guide/indexing.html#returning-a-view-versus-a-copy\n",
      "  direct_trains.rename({'station_code_x_x': 'fromStnCode', 'train_number_x': 'trainNumber',\n",
      "D:\\LearningPython\\ML\\Project\\SearchAlgorithm\\algo_object_oriented.py:159: SettingWithCopyWarning: \n",
      "A value is trying to be set on a copy of a slice from a DataFrame.\n",
      "Try using .loc[row_indexer,col_indexer] = value instead\n",
      "\n",
      "See the caveats in the documentation: https://pandas.pydata.org/pandas-docs/stable/user_guide/indexing.html#returning-a-view-versus-a-copy\n",
      "  trains_df['fromArrival']=pd.to_datetime(pd.Series([dep_date] * len(trains_df))) + \\\n",
      "D:\\LearningPython\\ML\\Project\\SearchAlgorithm\\algo_object_oriented.py:161: SettingWithCopyWarning: \n",
      "A value is trying to be set on a copy of a slice from a DataFrame.\n",
      "Try using .loc[row_indexer,col_indexer] = value instead\n",
      "\n",
      "See the caveats in the documentation: https://pandas.pydata.org/pandas-docs/stable/user_guide/indexing.html#returning-a-view-versus-a-copy\n",
      "  trains_df['fromDeparture']=pd.to_datetime(pd.Series([dep_date] * len(trains_df))) + \\\n",
      "D:\\LearningPython\\ML\\Project\\SearchAlgorithm\\algo_object_oriented.py:163: SettingWithCopyWarning: \n",
      "A value is trying to be set on a copy of a slice from a DataFrame.\n",
      "Try using .loc[row_indexer,col_indexer] = value instead\n",
      "\n",
      "See the caveats in the documentation: https://pandas.pydata.org/pandas-docs/stable/user_guide/indexing.html#returning-a-view-versus-a-copy\n",
      "  trains_df['haltArrival'] = pd.to_datetime(trains_df.halt_arrival) + \\\n",
      "D:\\LearningPython\\ML\\Project\\SearchAlgorithm\\algo_object_oriented.py:165: SettingWithCopyWarning: \n",
      "A value is trying to be set on a copy of a slice from a DataFrame.\n",
      "Try using .loc[row_indexer,col_indexer] = value instead\n",
      "\n",
      "See the caveats in the documentation: https://pandas.pydata.org/pandas-docs/stable/user_guide/indexing.html#returning-a-view-versus-a-copy\n",
      "  trains_df['haltDeparture']=pd.to_datetime(trains_df.halt_departure) + \\\n",
      "D:\\LearningPython\\ML\\Project\\SearchAlgorithm\\algo_object_oriented.py:167: SettingWithCopyWarning: \n",
      "A value is trying to be set on a copy of a slice from a DataFrame.\n",
      "Try using .loc[row_indexer,col_indexer] = value instead\n",
      "\n",
      "See the caveats in the documentation: https://pandas.pydata.org/pandas-docs/stable/user_guide/indexing.html#returning-a-view-versus-a-copy\n",
      "  trains_df['toArrival']=pd.to_datetime(trains_df['reach_date']) + \\\n",
      "D:\\LearningPython\\ML\\Project\\SearchAlgorithm\\algo_object_oriented.py:169: SettingWithCopyWarning: \n",
      "A value is trying to be set on a copy of a slice from a DataFrame.\n",
      "Try using .loc[row_indexer,col_indexer] = value instead\n",
      "\n",
      "See the caveats in the documentation: https://pandas.pydata.org/pandas-docs/stable/user_guide/indexing.html#returning-a-view-versus-a-copy\n",
      "  trains_df['toDeparture']=pd.to_datetime(trains_df.reach_date) + \\\n",
      "D:\\LearningPython\\ML\\Project\\SearchAlgorithm\\algo_object_oriented.py:182: SettingWithCopyWarning: \n",
      "A value is trying to be set on a copy of a slice from a DataFrame\n",
      "\n",
      "See the caveats in the documentation: https://pandas.pydata.org/pandas-docs/stable/user_guide/indexing.html#returning-a-view-versus-a-copy\n",
      "  indirect_trains.rename({'station_code_x_x': 'fromStnCode', 'train_number_x': 'trainNumber1', 'train_number_y':\n",
      "C:\\Users\\bhavy\\AppData\\Local\\Temp\\ipykernel_16916\\365216754.py:35: SettingWithCopyWarning: \n",
      "A value is trying to be set on a copy of a slice from a DataFrame\n",
      "\n",
      "See the caveats in the documentation: https://pandas.pydata.org/pandas-docs/stable/user_guide/indexing.html#returning-a-view-versus-a-copy\n",
      "  df1.rename({'trainNumber1': 'trainNumber', 'haltStation': 'toStnCode'}, axis=1, inplace=True)\n",
      "C:\\Users\\bhavy\\AppData\\Local\\Temp\\ipykernel_16916\\365216754.py:37: SettingWithCopyWarning: \n",
      "A value is trying to be set on a copy of a slice from a DataFrame\n",
      "\n",
      "See the caveats in the documentation: https://pandas.pydata.org/pandas-docs/stable/user_guide/indexing.html#returning-a-view-versus-a-copy\n",
      "  df2.rename({'trainNumber2': 'trainNumber', 'haltStation': 'fromStnCode'}, axis=1, inplace=True)\n",
      "C:\\Users\\bhavy\\AppData\\Local\\Temp\\ipykernel_16916\\365216754.py:69: PerformanceWarning: indexing past lexsort depth may impact performance.\n",
      "  if (row['trainNumber'], row['fromStnCode'], row['toStnCode']) in predictions.index:\n",
      "C:\\Users\\bhavy\\AppData\\Local\\Temp\\ipykernel_16916\\365216754.py:70: PerformanceWarning: indexing past lexsort depth may impact performance.\n",
      "  df_tmp = predictions.loc[(row['trainNumber'], row['fromStnCode'], row['toStnCode'])]\n",
      "C:\\Users\\bhavy\\AppData\\Local\\Temp\\ipykernel_16916\\365216754.py:80: PerformanceWarning: indexing past lexsort depth may impact performance.\n",
      "  if ((row['trainNumber1'], row['fromStnCode'], row['haltStation']) in predictions.index and\n",
      "C:\\Users\\bhavy\\AppData\\Local\\Temp\\ipykernel_16916\\365216754.py:81: PerformanceWarning: indexing past lexsort depth may impact performance.\n",
      "  (row['trainNumber2'], row['haltStation'], row['toStnCode']) in predictions.index):\n",
      "C:\\Users\\bhavy\\AppData\\Local\\Temp\\ipykernel_16916\\365216754.py:82: PerformanceWarning: indexing past lexsort depth may impact performance.\n",
      "  df_tmp = predictions.loc[(row['trainNumber1'], row['fromStnCode'], row['haltStation'])]\n",
      "C:\\Users\\bhavy\\AppData\\Local\\Temp\\ipykernel_16916\\365216754.py:84: PerformanceWarning: indexing past lexsort depth may impact performance.\n",
      "  df_tmp = predictions.loc[(row['trainNumber2'], row['haltStation'], row['toStnCode'])]\n"
     ]
    }
   ],
   "source": [
    "direct_trains, indirect_trains = planner.query(\"MMCT\", \"NDLS\", datetime.date(2023, 11, 13))"
   ],
   "metadata": {
    "collapsed": false,
    "pycharm": {
     "name": "#%%\n"
    }
   }
  },
  {
   "cell_type": "code",
   "execution_count": 20,
   "outputs": [
    {
     "ename": "IndentationError",
     "evalue": "expected an indented block after function definition on line 8 (2010591181.py, line 10)",
     "output_type": "error",
     "traceback": [
      "\u001B[1;36m  Cell \u001B[1;32mIn[20], line 10\u001B[1;36m\u001B[0m\n\u001B[1;33m    direct_trains['price'] = direct_trains.apply(direct_apply)\u001B[0m\n\u001B[1;37m    ^\u001B[0m\n\u001B[1;31mIndentationError\u001B[0m\u001B[1;31m:\u001B[0m expected an indented block after function definition on line 8\n"
     ]
    }
   ],
   "source": [],
   "metadata": {
    "collapsed": false,
    "pycharm": {
     "name": "#%%\n"
    }
   }
  },
  {
   "cell_type": "code",
   "execution_count": null,
   "outputs": [],
   "source": [],
   "metadata": {
    "collapsed": false,
    "pycharm": {
     "name": "#%%\n"
    }
   }
  }
 ],
 "metadata": {
  "kernelspec": {
   "display_name": "Python 3",
   "language": "python",
   "name": "python3"
  },
  "language_info": {
   "codemirror_mode": {
    "name": "ipython",
    "version": 2
   },
   "file_extension": ".py",
   "mimetype": "text/x-python",
   "name": "python",
   "nbconvert_exporter": "python",
   "pygments_lexer": "ipython2",
   "version": "2.7.6"
  }
 },
 "nbformat": 4,
 "nbformat_minor": 0
}