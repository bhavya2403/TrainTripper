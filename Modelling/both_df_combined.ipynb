{
 "cells": [
  {
   "cell_type": "code",
   "execution_count": 75,
   "id": "initial_id",
   "metadata": {
    "collapsed": true,
    "ExecuteTime": {
     "end_time": "2023-11-06T13:41:52.150756500Z",
     "start_time": "2023-11-06T13:41:52.143022100Z"
    }
   },
   "outputs": [],
   "source": [
    "import json\n",
    "import joblib\n",
    "import pandas as pd\n",
    "import matplotlib.pyplot as plt\n",
    "from sklearn.linear_model import LinearRegression\n",
    "from sklearn.tree import DecisionTreeRegressor\n",
    "from sklearn.ensemble import GradientBoostingRegressor, RandomForestRegressor\n",
    "from sklearn.model_selection import RandomizedSearchCV"
   ]
  },
  {
   "cell_type": "code",
   "execution_count": 67,
   "outputs": [],
   "source": [
    "df = pd.read_csv(\"../Data/processed_data/all_final_for_model.csv\")\n",
    "X, y = df.drop(['fare_to_predict'], axis=1), df.fare_to_predict"
   ],
   "metadata": {
    "collapsed": false,
    "ExecuteTime": {
     "end_time": "2023-11-06T13:27:26.658551100Z",
     "start_time": "2023-11-06T13:27:26.401631900Z"
    }
   },
   "id": "7f9cfb30e4c19ee8"
  },
  {
   "cell_type": "code",
   "execution_count": 68,
   "outputs": [],
   "source": [
    "test_indices = json.load(open(\"../Data/precomputes/test_indices.json\"))\n",
    "df_training, df_testing = df.drop(test_indices), df.iloc[test_indices]\n",
    "X_train, X_test = X.drop(test_indices), X.iloc[test_indices]\n",
    "y_train, y_test = y.drop(test_indices), y.iloc[test_indices]"
   ],
   "metadata": {
    "collapsed": false,
    "ExecuteTime": {
     "end_time": "2023-11-06T13:27:27.571634100Z",
     "start_time": "2023-11-06T13:27:27.463122900Z"
    }
   },
   "id": "a4079ab7098d2659"
  },
  {
   "cell_type": "code",
   "execution_count": 65,
   "outputs": [],
   "source": [
    "model_params = {\n",
    "    'linear_regression': {\n",
    "        'model': LinearRegression(),\n",
    "        'params': {}\n",
    "    },\n",
    "    'decision_tree_regression': {\n",
    "        'model': DecisionTreeRegressor(),\n",
    "        'params': {\n",
    "            'max_depth': [5, 10, 20, 30]\n",
    "        }\n",
    "    },\n",
    "    'gradient_boosting_regression': {\n",
    "        'model': GradientBoostingRegressor(),\n",
    "        'params': {\n",
    "            'n_estimators': [50, 100, 200],\n",
    "            'learning_rate': [0.01, 0.1, 0.2],\n",
    "            'max_depth': [3, 4, 5]\n",
    "        }\n",
    "    },\n",
    "    'random_forest_regression': {\n",
    "        'model': RandomForestRegressor(),\n",
    "        'params': {\n",
    "            'n_estimators': [10, 50, 100],\n",
    "            'max_depth': [5, 10, 20, 30]\n",
    "        }\n",
    "    }\n",
    "}"
   ],
   "metadata": {
    "collapsed": false,
    "ExecuteTime": {
     "end_time": "2023-11-06T13:25:47.389268400Z",
     "start_time": "2023-11-06T13:25:47.377599200Z"
    }
   },
   "id": "b022659b2cc697b5"
  },
  {
   "cell_type": "code",
   "execution_count": 69,
   "outputs": [
    {
     "name": "stdout",
     "output_type": "stream",
     "text": [
      "Running for 1/4 model (linear_regression)...\n"
     ]
    },
    {
     "name": "stderr",
     "output_type": "stream",
     "text": [
      "D:\\LearningPython\\venv\\Lib\\site-packages\\sklearn\\model_selection\\_search.py:307: UserWarning: The total space of parameters 1 is smaller than n_iter=5. Running 1 iterations. For exhaustive searches, use GridSearchCV.\n",
      "  warnings.warn(\n"
     ]
    },
    {
     "name": "stdout",
     "output_type": "stream",
     "text": [
      "{'model': 'linear_regression', 'best_score': 0.8484724336910968, 'best_params': {}}\n",
      "Running for 2/4 model (decision_tree_regression)...\n"
     ]
    },
    {
     "name": "stderr",
     "output_type": "stream",
     "text": [
      "D:\\LearningPython\\venv\\Lib\\site-packages\\sklearn\\model_selection\\_search.py:307: UserWarning: The total space of parameters 4 is smaller than n_iter=5. Running 4 iterations. For exhaustive searches, use GridSearchCV.\n",
      "  warnings.warn(\n"
     ]
    },
    {
     "name": "stdout",
     "output_type": "stream",
     "text": [
      "{'model': 'decision_tree_regression', 'best_score': 0.9880384339381411, 'best_params': {'max_depth': 10}}\n",
      "Running for 3/4 model (gradient_boosting_regression)...\n",
      "{'model': 'gradient_boosting_regression', 'best_score': 0.9896695190212279, 'best_params': {'n_estimators': 100, 'max_depth': 5, 'learning_rate': 0.1}}\n",
      "Running for 4/4 model (random_forest_regression)...\n",
      "{'model': 'random_forest_regression', 'best_score': 0.9892371283090617, 'best_params': {'n_estimators': 10, 'max_depth': 10}}\n"
     ]
    },
    {
     "data": {
      "text/plain": "                          model  best_score  \\\n0             linear_regression    0.848472   \n1      decision_tree_regression    0.988038   \n2  gradient_boosting_regression    0.989670   \n3      random_forest_regression    0.989237   \n\n                                         best_params  \n0                                                 {}  \n1                                  {'max_depth': 10}  \n2  {'n_estimators': 100, 'max_depth': 5, 'learnin...  \n3              {'n_estimators': 10, 'max_depth': 10}  ",
      "text/html": "<div>\n<style scoped>\n    .dataframe tbody tr th:only-of-type {\n        vertical-align: middle;\n    }\n\n    .dataframe tbody tr th {\n        vertical-align: top;\n    }\n\n    .dataframe thead th {\n        text-align: right;\n    }\n</style>\n<table border=\"1\" class=\"dataframe\">\n  <thead>\n    <tr style=\"text-align: right;\">\n      <th></th>\n      <th>model</th>\n      <th>best_score</th>\n      <th>best_params</th>\n    </tr>\n  </thead>\n  <tbody>\n    <tr>\n      <th>0</th>\n      <td>linear_regression</td>\n      <td>0.848472</td>\n      <td>{}</td>\n    </tr>\n    <tr>\n      <th>1</th>\n      <td>decision_tree_regression</td>\n      <td>0.988038</td>\n      <td>{'max_depth': 10}</td>\n    </tr>\n    <tr>\n      <th>2</th>\n      <td>gradient_boosting_regression</td>\n      <td>0.989670</td>\n      <td>{'n_estimators': 100, 'max_depth': 5, 'learnin...</td>\n    </tr>\n    <tr>\n      <th>3</th>\n      <td>random_forest_regression</td>\n      <td>0.989237</td>\n      <td>{'n_estimators': 10, 'max_depth': 10}</td>\n    </tr>\n  </tbody>\n</table>\n</div>"
     },
     "execution_count": 69,
     "metadata": {},
     "output_type": "execute_result"
    }
   ],
   "source": [
    "scores = []\n",
    "\n",
    "for i, (model_name, mp) in enumerate(model_params.items()):\n",
    "    print(f\"Running for {i+1}/{len(model_params)} model ({model_name})...\")\n",
    "    clf = RandomizedSearchCV(mp['model'], mp['params'], cv=3, return_train_score=False, n_iter=5)\n",
    "    clf.fit(X, y)\n",
    "    joblib.dump(clf.best_estimator_, f\"trained_models/{model_name}.pkl\")\n",
    "    scores.append({\n",
    "        'model': model_name,\n",
    "        'best_score': clf.best_score_,\n",
    "        'best_params': clf.best_params_\n",
    "    })\n",
    "    print(scores[-1])\n",
    "    \n",
    "df = pd.DataFrame(scores,columns=['model','best_score','best_params'])\n",
    "df"
   ],
   "metadata": {
    "collapsed": false,
    "ExecuteTime": {
     "end_time": "2023-11-06T13:38:14.241383600Z",
     "start_time": "2023-11-06T13:27:52.478443400Z"
    }
   },
   "id": "a9e6c602b336ac0a"
  },
  {
   "cell_type": "code",
   "execution_count": 74,
   "outputs": [
    {
     "data": {
      "text/plain": "Text(0, 0.5, 'Model Accuracy')"
     },
     "execution_count": 74,
     "metadata": {},
     "output_type": "execute_result"
    },
    {
     "data": {
      "text/plain": "<Figure size 640x480 with 1 Axes>",
      "image/png": "[encoded data removed]"
     },
     "metadata": {},
     "output_type": "display_data"
    }
   ],
   "source": [
    "plt.bar(df.model, df.best_score*100)\n",
    "plt.xticks(rotation=90)\n",
    "plt.ylabel(\"Model Accuracy\")"
   ],
   "metadata": {
    "collapsed": false,
    "ExecuteTime": {
     "end_time": "2023-11-06T13:41:31.997841Z",
     "start_time": "2023-11-06T13:41:31.804172100Z"
    }
   },
   "id": "c98fe8805e16b783"
  }
 ],
 "metadata": {
  "kernelspec": {
   "display_name": "Python 3",
   "language": "python",
   "name": "python3"
  },
  "language_info": {
   "codemirror_mode": {
    "name": "ipython",
    "version": 2
   },
   "file_extension": ".py",
   "mimetype": "text/x-python",
   "name": "python",
   "nbconvert_exporter": "python",
   "pygments_lexer": "ipython2",
   "version": "2.7.6"
  }
 },
 "nbformat": 4,
 "nbformat_minor": 5
}
