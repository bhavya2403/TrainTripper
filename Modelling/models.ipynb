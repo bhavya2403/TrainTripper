{
 "cells": [
  {
   "cell_type": "code",
   "execution_count": 1,
   "metadata": {
    "pycharm": {
     "name": "#%%\n"
    },
    "ExecuteTime": {
     "end_time": "2023-11-01T18:51:24.210746Z",
     "start_time": "2023-11-01T18:51:22.586010Z"
    }
   },
   "outputs": [
    {
     "name": "stdout",
     "output_type": "stream",
     "text": [
      "0.8519191052793509\n",
      "Coefficients: \n",
      " [ 2.19585344e+11  2.19585343e+11  2.19585342e+11  2.19585343e+11\n",
      "  2.19585343e+11  2.19585342e+11  1.11700111e+00 -1.86087085e-01]\n",
      "-219585342424.3191\n",
      "Mean squared error: 109945.00\n",
      "Coefficient of determination (R^2): 85.19%\n"
     ]
    }
   ],
   "source": [
    "# linear regression model\n",
    "\n",
    "\n",
    "# Load data\n",
    "import pandas as pd\n",
    "from sklearn.model_selection import train_test_split\n",
    "from sklearn.linear_model import LinearRegression\n",
    "from sklearn.metrics import mean_squared_error, r2_score\n",
    "from sklearn.preprocessing import StandardScaler\n",
    "from sklearn import tree\n",
    "\n",
    "data = pd.read_csv('../Data/dataset_for_schedules/final_for_model.csv')\n",
    "\n",
    "\n",
    "# Select features and target variable\n",
    "features = [ '1A', '2A', '2S', '3A', 'CC', 'SL', 'distance', 'duration']\n",
    "# target_base = 'baseFare'\n",
    "# target_reservation = 'reservationCharge'\n",
    "# target_superfast = 'superfastCharge'\n",
    "# target_dynamic = 'dynamicFare'\n",
    "# target_catering = 'cateringCharge'\n",
    "# target_fuel = 'fuelAmount'\n",
    "# target_concession = 'totalConcession'\n",
    "# target_tatkal = 'tatkalFare'\n",
    "# target_service = 'serviceTax'\n",
    "# target_other = 'otherCharge'\n",
    "\n",
    "target = 'totalFare'\n",
    "\n",
    "# Split data into features and target variable\n",
    "X = data[features]\n",
    "y = data[target]\n",
    "\n",
    "# Split data into training and testing sets\n",
    "X_train, X_test, y_train, y_test = train_test_split(X, y, test_size=0.2, random_state=42)\n",
    "\n",
    "# mu = y_train.mean()\n",
    "# sigma = y_train.std()\n",
    "# y_train = (y_train-mu)/sigma\n",
    "# y_test = (y_test-mu)/sigma\n",
    "\n",
    "# scaler = StandardScaler()\n",
    "# X_train = scaler.fit_transform(X_train)\n",
    "# X_test = scaler.transform(X_test)\n",
    "\n",
    "# Create and train the model\n",
    "model = LinearRegression()\n",
    "model.fit(X_train, y_train)\n",
    "\n",
    "# Make predictions on the testing set\n",
    "\n",
    "y_pred = model.predict(X_test)\n",
    "print(model.score(X_test, y_test))\n",
    "\n",
    "# Model evaluation\n",
    "print('Coefficients: \\n', model.coef_)\n",
    "print(model.intercept_)\n",
    "print('Mean squared error: %.2f' % mean_squared_error(y_test, y_pred))\n",
    "print('Coefficient of determination (R^2): %.2f%%' % (r2_score(y_test, y_pred) * 100))\n"
   ]
  },
  {
   "cell_type": "code",
   "execution_count": null,
   "outputs": [],
   "source": [
    "model = LinearRegression()\n"
   ],
   "metadata": {
    "collapsed": false
   }
  },
  {
   "cell_type": "code",
   "execution_count": 5,
   "metadata": {
    "pycharm": {
     "name": "#%%\n"
    },
    "ExecuteTime": {
     "end_time": "2023-11-01T18:57:02.769860Z",
     "start_time": "2023-11-01T18:57:02.141067Z"
    }
   },
   "outputs": [
    {
     "name": "stdout",
     "output_type": "stream",
     "text": [
      "Mean squared error: 218282.56\n",
      "Coefficient of determination (R^2): 65.26%\n"
     ]
    },
    {
     "data": {
      "text/plain": "<Figure size 640x480 with 1 Axes>",
      "image/png": "[encoded data removed]"
     },
     "metadata": {},
     "output_type": "display_data"
    }
   ],
   "source": [
    "# decision tree model\n",
    "import pandas as pd\n",
    "from sklearn.model_selection import train_test_split\n",
    "from sklearn.tree import DecisionTreeRegressor\n",
    "from sklearn.metrics import mean_squared_error, r2_score\n",
    "\n",
    "data = pd.read_csv('../Data/dataset_for_schedules/final_for_model.csv', nrows=10000)\n",
    "\n",
    "# Select features and target variable\n",
    "features = [ '1A', '2A', '2S', '3A', 'CC', 'SL' , 'distance' , 'duration']\n",
    "target = 'totalFare'\n",
    "\n",
    "# Split data into features and target variable\n",
    "X = data[features]\n",
    "y = data[target]\n",
    "\n",
    "# Split data into training and testing sets\n",
    "X_train, X_test, y_train, y_test = train_test_split(X, y, test_size=0.2, random_state=42)\n",
    "\n",
    "# Create and train the model\n",
    "model = DecisionTreeRegressor(max_depth=3, max_features=5)\n",
    "model.fit(X_train, y_train)\n",
    "\n",
    "# Make predictions on the testing set\n",
    "y_pred = model.predict(X_test)\n",
    "tree.plot_tree(model)\n",
    "\n",
    "# Model evaluation\n",
    "print('Mean squared error: %.2f' % mean_squared_error(y_test, y_pred))\n",
    "print('Coefficient of determination (R^2): %.2f%%' % (r2_score(y_test, y_pred) * 100))\n"
   ]
  },
  {
   "cell_type": "code",
   "execution_count": null,
   "outputs": [],
   "source": [],
   "metadata": {
    "collapsed": false
   }
  },
  {
   "cell_type": "code",
   "execution_count": 38,
   "metadata": {
    "pycharm": {
     "name": "#%%\n"
    },
    "ExecuteTime": {
     "end_time": "2023-11-01T18:20:11.516736Z",
     "start_time": "2023-11-01T18:19:39.234882Z"
    }
   },
   "outputs": [
    {
     "name": "stdout",
     "output_type": "stream",
     "text": [
      "Mean squared error: 22529.78\n",
      "Coefficient of determination (R^2): 96.97%\n"
     ]
    }
   ],
   "source": [
    "# random forest model\n",
    "import pandas as pd\n",
    "from sklearn.model_selection import train_test_split\n",
    "from sklearn.ensemble import RandomForestRegressor\n",
    "from sklearn.metrics import mean_squared_error, r2_score\n",
    "\n",
    "# Load data\n",
    "data = pd.read_csv('../Data/dataset_for_schedules/final_for_model.csv')\n",
    "# Select features and target variable\n",
    "features = [ '1A', '2A', '2S', '3A', 'CC', 'SL' , 'distance' , 'duration']\n",
    "target = 'totalFare'\n",
    "\n",
    "# Split data into features and target variable\n",
    "X = data[features]\n",
    "y = data[target]\n",
    "\n",
    "# Split data into training and testing sets\n",
    "X_train, X_test, y_train, y_test = train_test_split(X, y, test_size=0.2, random_state=42)\n",
    "\n",
    "# Create and train the model\n",
    "model = RandomForestRegressor(n_estimators=100, random_state=0)\n",
    "model.fit(X_train, y_train)\n",
    "\n",
    "# Make predictions on the testing set\n",
    "y_pred = model.predict(X_test)\n",
    "\n",
    "# Model evaluation\n",
    "print('Mean squared error: %.2f' % mean_squared_error(y_test, y_pred))\n",
    "print('Coefficient of determination (R^2): %.2f%%' % (r2_score(y_test, y_pred) * 100))\n"
   ]
  },
  {
   "cell_type": "code",
   "execution_count": 39,
   "metadata": {
    "pycharm": {
     "name": "#%%\n"
    },
    "ExecuteTime": {
     "end_time": "2023-11-01T18:20:41.098266Z",
     "start_time": "2023-11-01T18:20:36.465597Z"
    }
   },
   "outputs": [
    {
     "name": "stdout",
     "output_type": "stream",
     "text": [
      "Mean squared error: 112170.11\n",
      "Coefficient of determination (R^2): 84.89%\n"
     ]
    }
   ],
   "source": [
    "# gradient boosting model\n",
    "import pandas as pd\n",
    "from sklearn.model_selection import train_test_split\n",
    "from sklearn.ensemble import GradientBoostingRegressor\n",
    "from sklearn.metrics import mean_squared_error, r2_score\n",
    "\n",
    "# Load data\n",
    "data = pd.read_csv('../Data/dataset_for_schedules/final_for_model.csv')\n",
    "# Select features and target variable\n",
    "features = [ '1A', '2A', '2S', '3A', 'CC', 'SL' , 'distance' , 'duration']\n",
    "target = 'totalFare'\n",
    "\n",
    "# Split data into features and target variable\n",
    "X = data[features]\n",
    "y = data[target]\n",
    "\n",
    "# Split data into training and testing sets\n",
    "X_train, X_test, y_train, y_test = train_test_split(X, y, test_size=0.2, random_state=42)\n",
    "\n",
    "# Create and train the model\n",
    "model = GradientBoostingRegressor(n_estimators=100, learning_rate=0.1, max_depth=1, random_state=0)\n",
    "model.fit(X_train, y_train)\n",
    "\n",
    "# Make predictions on the testing set\n",
    "y_pred = model.predict(X_test)\n",
    "\n",
    "# Model evaluation\n",
    "print('Mean squared error: %.2f' % mean_squared_error(y_test, y_pred))\n",
    "print('Coefficient of determination (R^2): %.2f%%' % (r2_score(y_test, y_pred) * 100))\n"
   ]
  },
  {
   "cell_type": "code",
   "execution_count": 40,
   "metadata": {
    "pycharm": {
     "name": "#%%\n"
    },
    "ExecuteTime": {
     "end_time": "2023-11-01T18:23:14.274734Z",
     "start_time": "2023-11-01T18:20:49.325796Z"
    }
   },
   "outputs": [
    {
     "name": "stdout",
     "output_type": "stream",
     "text": [
      "1851/1851 [==============================] - 1s 303us/step\n",
      "Mean squared error: 19348.38\n",
      "Coefficient of determination (R^2): 97.39%\n"
     ]
    }
   ],
   "source": [
    "# neural network model\n",
    "import pandas as pd\n",
    "import numpy as np\n",
    "import tensorflow as tf\n",
    "from sklearn.model_selection import train_test_split\n",
    "from sklearn.preprocessing import StandardScaler\n",
    "from sklearn.metrics import mean_squared_error, r2_score\n",
    "\n",
    "# Load data\n",
    "data = pd.read_csv('../Data/dataset_for_schedules/final_for_model.csv')\n",
    "# Select features and target variable\n",
    "features = [ '1A', '2A', '2S', '3A', 'CC', 'SL' , 'distance' , 'duration']\n",
    "target = 'totalFare'\n",
    "\n",
    "# Split data into features and target variable\n",
    "X = data[features]\n",
    "y = data[target]\n",
    "\n",
    "# Standardize features\n",
    "scaler = StandardScaler()\n",
    "X = scaler.fit_transform(X)\n",
    "\n",
    "# Split data into training and testing sets\n",
    "X_train, X_test, y_train, y_test = train_test_split(X, y, test_size=0.2, random_state=42)\n",
    "\n",
    "# Create and train the model\n",
    "model = tf.keras.Sequential([\n",
    "    tf.keras.layers.Dense(64, activation='relu', input_shape=(X.shape[1],)),\n",
    "    tf.keras.layers.Dense(64, activation='relu'),\n",
    "    tf.keras.layers.Dense(1)\n",
    "])\n",
    "\n",
    "model.compile(optimizer='adam', loss='mean_squared_error')\n",
    "\n",
    "model.fit(X_train, y_train, epochs=50, batch_size=32, verbose=0)\n",
    "\n",
    "# Make predictions on the testing set\n",
    "y_pred = model.predict(X_test).flatten()\n",
    "\n",
    "# Model evaluation\n",
    "print('Mean squared error: %.2f' % mean_squared_error(y_test, y_pred))\n",
    "print('Coefficient of determination (R^2): %.2f%%' % (r2_score(y_test, y_pred) * 100))\n"
   ]
  },
  {
   "cell_type": "code",
   "execution_count": null,
   "outputs": [],
   "source": [],
   "metadata": {
    "collapsed": false
   }
  }
 ],
 "metadata": {
  "kernelspec": {
   "display_name": "Python 3",
   "language": "python",
   "name": "python3"
  },
  "language_info": {
   "codemirror_mode": {
    "name": "ipython",
    "version": 3
   },
   "file_extension": ".py",
   "mimetype": "text/x-python",
   "name": "python",
   "nbconvert_exporter": "python",
   "pygments_lexer": "ipython3",
   "version": "3.11.4"
  }
 },
 "nbformat": 4,
 "nbformat_minor": 2
}
