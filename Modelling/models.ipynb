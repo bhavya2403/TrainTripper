{
 "cells": [
  {
   "cell_type": "code",
   "execution_count": 1,
   "metadata": {
    "pycharm": {
     "name": "#%%\n"
    }
   },
   "outputs": [
    {
     "name": "stdout",
     "output_type": "stream",
     "text": [
      "Coefficients: \n",
      " [ 2.77555756e-16  1.00000000e+00  9.99328183e-01  1.00000000e+00\n",
      " -2.22044605e-16 -2.32452946e-16 -2.77555756e-17 -1.38777878e-17\n",
      "  0.00000000e+00  1.00000000e+00  0.00000000e+00  0.00000000e+00\n",
      "  1.56243392e-14  1.51158885e-02  8.39771582e-03 -1.51158885e-02\n",
      "  1.67954316e-03  1.67954316e-03  0.00000000e+00 -1.17568021e-02]\n",
      "Mean squared error: 0.00\n",
      "Coefficient of determination (R^2): 100.00%\n"
     ]
    }
   ],
   "source": [
    "# linear regression model\n",
    "import pandas as pd\n",
    "from sklearn.model_selection import train_test_split\n",
    "from sklearn.linear_model import LinearRegression\n",
    "from sklearn.metrics import mean_squared_error, r2_score\n",
    "\n",
    "# Load data\n",
    "data = pd.read_csv('train_prices_combined.csv')\n",
    "\n",
    "# Select features and target variable\n",
    "features = ['train_number', 'basefare', 'reservationCharge', 'superfastCharge', 'dynamicFare', 'cateringCharge', \n",
    "            'fuelAmount', 'totalConcession', 'tatkalFare', 'serviceTax', 'otherCharge', 'distance', 'total_minutes',\n",
    "            '1A', '2A', '2S', '3A', '3E', 'CC', 'SL']\n",
    "target = 'totalFare'\n",
    "\n",
    "# Split data into features and target variable\n",
    "X = data[features]\n",
    "y = data[target]\n",
    "\n",
    "# Split data into training and testing sets\n",
    "X_train, X_test, y_train, y_test = train_test_split(X, y, test_size=0.2, random_state=42)\n",
    "\n",
    "# Create and train the model\n",
    "model = LinearRegression()\n",
    "model.fit(X_train, y_train)\n",
    "\n",
    "# Make predictions on the testing set\n",
    "y_pred = model.predict(X_test)\n",
    "\n",
    "# Model evaluation\n",
    "print('Coefficients: \\n', model.coef_)\n",
    "print('Mean squared error: %.2f' % mean_squared_error(y_test, y_pred))\n",
    "print('Coefficient of determination (R^2): %.2f%%' % (r2_score(y_test, y_pred) * 100))\n"
   ]
  },
  {
   "cell_type": "code",
   "execution_count": 2,
   "metadata": {
    "pycharm": {
     "name": "#%%\n"
    }
   },
   "outputs": [
    {
     "name": "stdout",
     "output_type": "stream",
     "text": [
      "Mean squared error: 25855.00\n",
      "Coefficient of determination (R^2): 90.64%\n"
     ]
    }
   ],
   "source": [
    "# decision tree model\n",
    "import pandas as pd\n",
    "from sklearn.model_selection import train_test_split\n",
    "from sklearn.tree import DecisionTreeRegressor\n",
    "from sklearn.metrics import mean_squared_error, r2_score\n",
    "\n",
    "# Load data\n",
    "data = pd.read_csv('train_prices_combined.csv')\n",
    "\n",
    "# Select features and target variable\n",
    "features = ['train_number', 'basefare', 'reservationCharge', 'superfastCharge', 'dynamicFare', 'cateringCharge', \n",
    "            'fuelAmount', 'totalConcession', 'tatkalFare', 'serviceTax', 'otherCharge', 'distance', 'total_minutes',\n",
    "            '1A', '2A', '2S', '3A', '3E', 'CC', 'SL']\n",
    "target = 'totalFare'\n",
    "\n",
    "# Split data into features and target variable\n",
    "X = data[features]\n",
    "y = data[target]\n",
    "\n",
    "# Split data into training and testing sets\n",
    "X_train, X_test, y_train, y_test = train_test_split(X, y, test_size=0.2, random_state=42)\n",
    "\n",
    "# Create and train the model\n",
    "model = DecisionTreeRegressor(random_state=0)\n",
    "model.fit(X_train, y_train)\n",
    "\n",
    "# Make predictions on the testing set\n",
    "y_pred = model.predict(X_test)\n",
    "\n",
    "# Model evaluation\n",
    "print('Mean squared error: %.2f' % mean_squared_error(y_test, y_pred))\n",
    "print('Coefficient of determination (R^2): %.2f%%' % (r2_score(y_test, y_pred) * 100))\n"
   ]
  },
  {
   "cell_type": "code",
   "execution_count": 3,
   "metadata": {
    "pycharm": {
     "name": "#%%\n"
    }
   },
   "outputs": [
    {
     "name": "stdout",
     "output_type": "stream",
     "text": [
      "Mean squared error: 16414.69\n",
      "Coefficient of determination (R^2): 94.06%\n"
     ]
    }
   ],
   "source": [
    "# random forest model\n",
    "import pandas as pd\n",
    "from sklearn.model_selection import train_test_split\n",
    "from sklearn.ensemble import RandomForestRegressor\n",
    "from sklearn.metrics import mean_squared_error, r2_score\n",
    "\n",
    "# Load data\n",
    "data = pd.read_csv('train_prices_combined.csv')\n",
    "\n",
    "# Select features and target variable\n",
    "features = ['train_number', 'basefare', 'reservationCharge', 'superfastCharge', 'dynamicFare', 'cateringCharge', \n",
    "            'fuelAmount', 'totalConcession', 'tatkalFare', 'serviceTax', 'otherCharge', 'distance', 'total_minutes',\n",
    "            '1A', '2A', '2S', '3A', '3E', 'CC', 'SL']\n",
    "target = 'totalFare'\n",
    "\n",
    "# Split data into features and target variable\n",
    "X = data[features]\n",
    "y = data[target]\n",
    "\n",
    "# Split data into training and testing sets\n",
    "X_train, X_test, y_train, y_test = train_test_split(X, y, test_size=0.2, random_state=42)\n",
    "\n",
    "# Create and train the model\n",
    "model = RandomForestRegressor(n_estimators=100, random_state=0)\n",
    "model.fit(X_train, y_train)\n",
    "\n",
    "# Make predictions on the testing set\n",
    "y_pred = model.predict(X_test)\n",
    "\n",
    "# Model evaluation\n",
    "print('Mean squared error: %.2f' % mean_squared_error(y_test, y_pred))\n",
    "print('Coefficient of determination (R^2): %.2f%%' % (r2_score(y_test, y_pred) * 100))\n"
   ]
  },
  {
   "cell_type": "code",
   "execution_count": 4,
   "metadata": {
    "pycharm": {
     "name": "#%%\n"
    }
   },
   "outputs": [
    {
     "name": "stdout",
     "output_type": "stream",
     "text": [
      "Mean squared error: 1304.33\n",
      "Coefficient of determination (R^2): 99.53%\n"
     ]
    }
   ],
   "source": [
    "# gradient boosting model\n",
    "import pandas as pd\n",
    "from sklearn.model_selection import train_test_split\n",
    "from sklearn.ensemble import GradientBoostingRegressor\n",
    "from sklearn.metrics import mean_squared_error, r2_score\n",
    "\n",
    "# Load data\n",
    "data = pd.read_csv('train_prices_combined.csv')\n",
    "\n",
    "# Select features and target variable\n",
    "features = ['train_number', 'basefare', 'reservationCharge', 'superfastCharge', 'dynamicFare', 'cateringCharge', \n",
    "            'fuelAmount', 'totalConcession', 'tatkalFare', 'serviceTax', 'otherCharge', 'distance', 'total_minutes',\n",
    "            '1A', '2A', '2S', '3A', '3E', 'CC', 'SL']\n",
    "target = 'totalFare'\n",
    "\n",
    "# Split data into features and target variable\n",
    "X = data[features]\n",
    "y = data[target]\n",
    "\n",
    "# Split data into training and testing sets\n",
    "X_train, X_test, y_train, y_test = train_test_split(X, y, test_size=0.2, random_state=42)\n",
    "\n",
    "# Create and train the model\n",
    "model = GradientBoostingRegressor(n_estimators=100, learning_rate=0.1, max_depth=1, random_state=0)\n",
    "model.fit(X_train, y_train)\n",
    "\n",
    "# Make predictions on the testing set\n",
    "y_pred = model.predict(X_test)\n",
    "\n",
    "# Model evaluation\n",
    "print('Mean squared error: %.2f' % mean_squared_error(y_test, y_pred))\n",
    "print('Coefficient of determination (R^2): %.2f%%' % (r2_score(y_test, y_pred) * 100))\n"
   ]
  },
  {
   "cell_type": "code",
   "execution_count": 2,
   "metadata": {
    "pycharm": {
     "name": "#%%\n"
    }
   },
   "outputs": [
    {
     "name": "stdout",
     "output_type": "stream",
     "text": [
      "1/1 [==============================] - 0s 32ms/step\n",
      "Mean squared error: 587955.49\n",
      "Coefficient of determination (R^2): -112.90%\n"
     ]
    }
   ],
   "source": [
    "# neural network model\n",
    "import pandas as pd\n",
    "import numpy as np\n",
    "import tensorflow as tf\n",
    "from sklearn.model_selection import train_test_split\n",
    "from sklearn.preprocessing import StandardScaler\n",
    "from sklearn.metrics import mean_squared_error, r2_score\n",
    "\n",
    "# Load data\n",
    "data = pd.read_csv('train_prices_combined.csv')\n",
    "\n",
    "# Select features and target variable\n",
    "features = ['train_number', 'basefare', 'reservationCharge', 'superfastCharge', 'dynamicFare', 'cateringCharge', \n",
    "            'fuelAmount', 'totalConcession', 'tatkalFare', 'serviceTax', 'otherCharge', 'distance', 'total_minutes',\n",
    "            '1A', '2A', '2S', '3A', '3E', 'CC', 'SL']\n",
    "target = 'totalFare'\n",
    "\n",
    "# Split data into features and target variable\n",
    "X = data[features]\n",
    "y = data[target]\n",
    "\n",
    "# Standardize features\n",
    "scaler = StandardScaler()\n",
    "X = scaler.fit_transform(X)\n",
    "\n",
    "# Split data into training and testing sets\n",
    "X_train, X_test, y_train, y_test = train_test_split(X, y, test_size=0.2, random_state=42)\n",
    "\n",
    "# Create and train the model\n",
    "model = tf.keras.Sequential([\n",
    "    tf.keras.layers.Dense(64, activation='relu', input_shape=(X.shape[1],)),\n",
    "    tf.keras.layers.Dense(64, activation='relu'),\n",
    "    tf.keras.layers.Dense(1)\n",
    "])\n",
    "\n",
    "model.compile(optimizer='adam', loss='mean_squared_error')\n",
    "\n",
    "model.fit(X_train, y_train, epochs=50, batch_size=32, verbose=0)\n",
    "\n",
    "# Make predictions on the testing set\n",
    "y_pred = model.predict(X_test).flatten()\n",
    "\n",
    "# Model evaluation\n",
    "print('Mean squared error: %.2f' % mean_squared_error(y_test, y_pred))\n",
    "print('Coefficient of determination (R^2): %.2f%%' % (r2_score(y_test, y_pred) * 100))\n"
   ]
  }
 ],
 "metadata": {
  "kernelspec": {
   "display_name": "Python 3",
   "language": "python",
   "name": "python3"
  },
  "language_info": {
   "codemirror_mode": {
    "name": "ipython",
    "version": 3
   },
   "file_extension": ".py",
   "mimetype": "text/x-python",
   "name": "python",
   "nbconvert_exporter": "python",
   "pygments_lexer": "ipython3",
   "version": "3.11.4"
  }
 },
 "nbformat": 4,
 "nbformat_minor": 2
}
