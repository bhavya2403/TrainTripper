{
 "cells": [
  {
   "cell_type": "code",
   "execution_count": 9,
   "metadata": {},
   "outputs": [],
   "source": [
    "import pandas as pd\n",
    "from datetime import datetime, timedelta\n",
    "\n",
    "df = pd.read_csv('traintripper_trainschedules.csv')\n",
    "\n",
    "durations = []\n",
    "for train_number in df['train_number'].unique():\n",
    "    relevant_data = df[df['train_number'] == train_number]\n",
    "    duration = 0\n",
    "    prev_day_count = relevant_data.iloc[0]['day_count']\n",
    "\n",
    "    for i in range(len(relevant_data)):\n",
    "        if i==0:\n",
    "            duration = 0\n",
    "            durations.append(duration)\n",
    "            departure = datetime.strptime(str(relevant_data.iloc[i]['departure_time']), '%H:%M:%S')\n",
    "            continue\n",
    "        else:\n",
    "            arrival = datetime.strptime(str(relevant_data.iloc[i]['arrival_time']), '%H:%M:%S')\n",
    "            if relevant_data.iloc[i]['day_count'] > prev_day_count:\n",
    "                day = int(relevant_data.iloc[i]['day_count']) - int(prev_day_count)\n",
    "                arrival += timedelta(days=day) # Add a day to the arrival time\n",
    "            diff = arrival - departure\n",
    "            duration = diff.total_seconds()/60\n",
    "\n",
    "            durations.append(duration)\n",
    "        \n",
    "\n",
    "df['duration_minutes'] = durations\n",
    "\n",
    "\n",
    "# to csv\n",
    "df.to_csv('final_schedules.csv', index=False)\n"
   ]
  },
  {
   "cell_type": "code",
   "execution_count": 1,
   "metadata": {},
   "outputs": [
    {
     "ename": "NameError",
     "evalue": "name 'df' is not defined",
     "output_type": "error",
     "traceback": [
      "\u001b[0;31m---------------------------------------------------------------------------\u001b[0m",
      "\u001b[0;31mNameError\u001b[0m                                 Traceback (most recent call last)",
      "\u001b[1;32m/Users/maharth/Desktop/TrainTripper/Data/dataset_for_schedules/filtering.ipynb Cell 3\u001b[0m line \u001b[0;36m6\n\u001b[1;32m      <a href='vscode-notebook-cell:/Users/maharth/Desktop/TrainTripper/Data/dataset_for_schedules/filtering.ipynb#W2sZmlsZQ%3D%3D?line=3'>4</a>\u001b[0m \u001b[39m# Calculate duration for each train\u001b[39;00m\n\u001b[1;32m      <a href='vscode-notebook-cell:/Users/maharth/Desktop/TrainTripper/Data/dataset_for_schedules/filtering.ipynb#W2sZmlsZQ%3D%3D?line=4'>5</a>\u001b[0m durations \u001b[39m=\u001b[39m []\n\u001b[0;32m----> <a href='vscode-notebook-cell:/Users/maharth/Desktop/TrainTripper/Data/dataset_for_schedules/filtering.ipynb#W2sZmlsZQ%3D%3D?line=5'>6</a>\u001b[0m \u001b[39mfor\u001b[39;00m train_number \u001b[39min\u001b[39;00m df[\u001b[39m'\u001b[39m\u001b[39mtrain_number\u001b[39m\u001b[39m'\u001b[39m]\u001b[39m.\u001b[39munique(): \u001b[39m# Loop through each train\u001b[39;00m\n\u001b[1;32m      <a href='vscode-notebook-cell:/Users/maharth/Desktop/TrainTripper/Data/dataset_for_schedules/filtering.ipynb#W2sZmlsZQ%3D%3D?line=6'>7</a>\u001b[0m     relevant_data \u001b[39m=\u001b[39m df[df[\u001b[39m'\u001b[39m\u001b[39mtrain_number\u001b[39m\u001b[39m'\u001b[39m] \u001b[39m==\u001b[39m train_number] \u001b[39m# Get the data for the current train\u001b[39;00m\n\u001b[1;32m      <a href='vscode-notebook-cell:/Users/maharth/Desktop/TrainTripper/Data/dataset_for_schedules/filtering.ipynb#W2sZmlsZQ%3D%3D?line=7'>8</a>\u001b[0m     duration \u001b[39m=\u001b[39m \u001b[39m0\u001b[39m\n",
      "\u001b[0;31mNameError\u001b[0m: name 'df' is not defined"
     ]
    }
   ],
   "source": [
    "\n",
    "        \n",
    "\n",
    "# Calculate duration for each train\n",
    "durations = []\n",
    "for train_number in df['train_number'].unique(): # Loop through each train\n",
    "    relevant_data = df[df['train_number'] == train_number] # Get the data for the current train\n",
    "    duration = 0\n",
    "    prev_day_count = relevant_data.iloc[0]['day_count'] # Keep track of the day count\n",
    "    prev_departure = None \n",
    "    for i in range(len(relevant_data)):\n",
    "        if pd.notna(relevant_data.iloc[i]['departure_time']): # If the departure time is not null\n",
    "            # relevant_data['departure_time'].fillna('', inplace=True)\n",
    "            departure = datetime.strptime(str(relevant_data.iloc[i]['departure_time']), '%H:%M:%S')\n",
    "            if relevant_data.iloc[i]['distance'] == 0 and prev_departure:\n",
    "                durations.append(duration)\n",
    "                duration = 0\n",
    "                prev_departure = None\n",
    "                continue\n",
    "            if pd.notna(relevant_data.iloc[i]['arrival_time']): # If the arrival time is not null\n",
    "                # relevant_data['arrival_time'].fillna('', inplace=True)\n",
    "                arrival = datetime.strptime(str(relevant_data.iloc[i]['arrival_time']), '%H:%M:%S')\n",
    "                if relevant_data.iloc[i]['day_count'] > prev_day_count:\n",
    "                    arrival += timedelta(days=1)\n",
    "                diff = arrival - departure\n",
    "                duration += diff.total_seconds()\n",
    "                prev_day_count = relevant_data.iloc[i]['day_count']\n",
    "                prev_departure = departure\n",
    "    durations.append(duration)\n",
    "\n",
    "# Add the calculated durations as a new column\n",
    "df['duration_seconds'] = durations\n",
    "\n",
    "# Save the DataFrame to a new CSV file\n",
    "df\n"
   ]
  },
  {
   "cell_type": "code",
   "execution_count": null,
   "metadata": {},
   "outputs": [],
   "source": []
  }
 ],
 "metadata": {
  "kernelspec": {
   "display_name": "Python 3",
   "language": "python",
   "name": "python3"
  },
  "language_info": {
   "codemirror_mode": {
    "name": "ipython",
    "version": 3
   },
   "file_extension": ".py",
   "mimetype": "text/x-python",
   "name": "python",
   "nbconvert_exporter": "python",
   "pygments_lexer": "ipython3",
   "version": "3.11.4"
  }
 },
 "nbformat": 4,
 "nbformat_minor": 2
}
